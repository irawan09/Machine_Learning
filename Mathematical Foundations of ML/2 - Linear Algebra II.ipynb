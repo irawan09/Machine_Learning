{
 "cells": [
  {
   "cell_type": "markdown",
   "id": "35cb11e7",
   "metadata": {},
   "source": [
    "# Linear Algebra II: Matrix Operations"
   ]
  },
  {
   "cell_type": "markdown",
   "id": "17455d84",
   "metadata": {},
   "source": [
    "This topic, *Linear Algebra II: Matrix Operations*, builds on the basics of linear algebra. It is essential because these intermediate-level manipulations of tensors lie at the heart of most machine learning approaches and are especially predominant in deep learning. \n",
    "\n",
    "Through the measured exposition of theory paired with interactive examples, you’ll develop an understanding of how linear algebra is used to solve for unknown values in high-dimensional spaces as well as to reduce the dimensionality of complex spaces. The content covered in this topic is itself foundational for several other topics in the *Machine Learning Foundations* series, especially *Probability & Information Theory* and *Optimization*. "
   ]
  },
  {
   "cell_type": "markdown",
   "id": "3352d43b",
   "metadata": {},
   "source": [
    "## Segment 1: Review of Introductory Linear Algebra"
   ]
  },
  {
   "cell_type": "code",
   "execution_count": 281,
   "id": "d416b1fe",
   "metadata": {},
   "outputs": [],
   "source": [
    "import numpy as np"
   ]
  },
  {
   "cell_type": "code",
   "execution_count": 282,
   "id": "318a8792",
   "metadata": {},
   "outputs": [
    {
     "data": {
      "text/plain": [
       "array([25,  2,  5])"
      ]
     },
     "execution_count": 282,
     "metadata": {},
     "output_type": "execute_result"
    }
   ],
   "source": [
    "x = np.array([25, 2, 5])\n",
    "x"
   ]
  },
  {
   "cell_type": "code",
   "execution_count": 283,
   "id": "53998cbb",
   "metadata": {},
   "outputs": [
    {
     "data": {
      "text/plain": [
       "(3,)"
      ]
     },
     "execution_count": 283,
     "metadata": {},
     "output_type": "execute_result"
    }
   ],
   "source": [
    "x.shape"
   ]
  },
  {
   "cell_type": "code",
   "execution_count": 284,
   "id": "3185c5e0",
   "metadata": {},
   "outputs": [
    {
     "data": {
      "text/plain": [
       "array([[25,  2,  5]])"
      ]
     },
     "execution_count": 284,
     "metadata": {},
     "output_type": "execute_result"
    }
   ],
   "source": [
    "x = np.array([[25, 2, 5]])\n",
    "x"
   ]
  },
  {
   "cell_type": "code",
   "execution_count": 285,
   "id": "1ee72ca0",
   "metadata": {},
   "outputs": [
    {
     "data": {
      "text/plain": [
       "(1, 3)"
      ]
     },
     "execution_count": 285,
     "metadata": {},
     "output_type": "execute_result"
    }
   ],
   "source": [
    "x.shape"
   ]
  },
  {
   "cell_type": "code",
   "execution_count": 286,
   "id": "fe57ec7c",
   "metadata": {},
   "outputs": [
    {
     "data": {
      "text/plain": [
       "array([[25],\n",
       "       [ 2],\n",
       "       [ 5]])"
      ]
     },
     "execution_count": 286,
     "metadata": {},
     "output_type": "execute_result"
    }
   ],
   "source": [
    "x.T"
   ]
  },
  {
   "cell_type": "code",
   "execution_count": 287,
   "id": "11b92af8",
   "metadata": {},
   "outputs": [
    {
     "data": {
      "text/plain": [
       "(3, 1)"
      ]
     },
     "execution_count": 287,
     "metadata": {},
     "output_type": "execute_result"
    }
   ],
   "source": [
    "x.T.shape"
   ]
  },
  {
   "cell_type": "markdown",
   "id": "fc1d3938",
   "metadata": {},
   "source": [
    "## $L^2$ Norm"
   ]
  },
  {
   "cell_type": "code",
   "execution_count": 288,
   "id": "d82c22cf",
   "metadata": {},
   "outputs": [
    {
     "data": {
      "text/plain": [
       "array([[25,  2,  5]])"
      ]
     },
     "execution_count": 288,
     "metadata": {},
     "output_type": "execute_result"
    }
   ],
   "source": [
    "x"
   ]
  },
  {
   "cell_type": "code",
   "execution_count": 289,
   "id": "fb0399d1",
   "metadata": {},
   "outputs": [
    {
     "data": {
      "text/plain": [
       "25.573423705088842"
      ]
     },
     "execution_count": 289,
     "metadata": {},
     "output_type": "execute_result"
    }
   ],
   "source": [
    "(25**2 + 2**2 + 5**2)**(1/2)"
   ]
  },
  {
   "cell_type": "code",
   "execution_count": 290,
   "id": "9d9830ff",
   "metadata": {},
   "outputs": [
    {
     "data": {
      "text/plain": [
       "25.573423705088842"
      ]
     },
     "execution_count": 290,
     "metadata": {},
     "output_type": "execute_result"
    }
   ],
   "source": [
    "np.linalg.norm(x)"
   ]
  },
  {
   "cell_type": "markdown",
   "id": "1c94a0f0",
   "metadata": {},
   "source": [
    "### Matrices"
   ]
  },
  {
   "cell_type": "code",
   "execution_count": 291,
   "id": "089e034a",
   "metadata": {},
   "outputs": [
    {
     "data": {
      "text/plain": [
       "array([[25,  2],\n",
       "       [ 5, 26],\n",
       "       [ 3,  7]])"
      ]
     },
     "execution_count": 291,
     "metadata": {},
     "output_type": "execute_result"
    }
   ],
   "source": [
    "X = np.array([[25, 2], [5, 26], [3, 7]])\n",
    "X"
   ]
  },
  {
   "cell_type": "code",
   "execution_count": 292,
   "id": "751f78c0",
   "metadata": {},
   "outputs": [
    {
     "data": {
      "text/plain": [
       "(3, 2)"
      ]
     },
     "execution_count": 292,
     "metadata": {},
     "output_type": "execute_result"
    }
   ],
   "source": [
    "X.shape"
   ]
  },
  {
   "cell_type": "markdown",
   "id": "506e00b6",
   "metadata": {},
   "source": [
    "### Matrix Transposition"
   ]
  },
  {
   "cell_type": "code",
   "execution_count": 293,
   "id": "c9b5759b",
   "metadata": {},
   "outputs": [
    {
     "data": {
      "text/plain": [
       "array([[25,  2],\n",
       "       [ 5, 26],\n",
       "       [ 3,  7]])"
      ]
     },
     "execution_count": 293,
     "metadata": {},
     "output_type": "execute_result"
    }
   ],
   "source": [
    "X"
   ]
  },
  {
   "cell_type": "code",
   "execution_count": 294,
   "id": "4c7df457",
   "metadata": {},
   "outputs": [
    {
     "data": {
      "text/plain": [
       "array([[25,  5,  3],\n",
       "       [ 2, 26,  7]])"
      ]
     },
     "execution_count": 294,
     "metadata": {},
     "output_type": "execute_result"
    }
   ],
   "source": [
    "X.T"
   ]
  },
  {
   "cell_type": "markdown",
   "id": "c2075058",
   "metadata": {},
   "source": [
    "### Matrix Multiplication"
   ]
  },
  {
   "cell_type": "code",
   "execution_count": 295,
   "id": "cbb087b2",
   "metadata": {},
   "outputs": [
    {
     "data": {
      "text/plain": [
       "array([[75,  6],\n",
       "       [15, 78],\n",
       "       [ 9, 21]])"
      ]
     },
     "execution_count": 295,
     "metadata": {},
     "output_type": "execute_result"
    }
   ],
   "source": [
    "X*3"
   ]
  },
  {
   "cell_type": "code",
   "execution_count": 296,
   "id": "b7107312",
   "metadata": {},
   "outputs": [
    {
     "data": {
      "text/plain": [
       "array([[78,  9],\n",
       "       [18, 81],\n",
       "       [12, 24]])"
      ]
     },
     "execution_count": 296,
     "metadata": {},
     "output_type": "execute_result"
    }
   ],
   "source": [
    "X*3+3"
   ]
  },
  {
   "cell_type": "markdown",
   "id": "0d8aceac",
   "metadata": {},
   "source": [
    "Using the multiplication operator on two tensors of the same size in Numpy or TensorFlow applies element-wise operations. This is the **Hadamard product** (denoted by the $\\odot$ operator, e.g., $A \\odot B$) *not* **matrix multiplication**: "
   ]
  },
  {
   "cell_type": "code",
   "execution_count": 297,
   "id": "b28a0072",
   "metadata": {},
   "outputs": [
    {
     "data": {
      "text/plain": [
       "array([[3, 4],\n",
       "       [5, 6],\n",
       "       [7, 8]])"
      ]
     },
     "execution_count": 297,
     "metadata": {},
     "output_type": "execute_result"
    }
   ],
   "source": [
    "A = np.array([[3, 4], [5, 6], [7, 8]])\n",
    "A"
   ]
  },
  {
   "cell_type": "code",
   "execution_count": 298,
   "id": "034067c1",
   "metadata": {},
   "outputs": [
    {
     "data": {
      "text/plain": [
       "array([[25,  2],\n",
       "       [ 5, 26],\n",
       "       [ 3,  7]])"
      ]
     },
     "execution_count": 298,
     "metadata": {},
     "output_type": "execute_result"
    }
   ],
   "source": [
    "X"
   ]
  },
  {
   "cell_type": "code",
   "execution_count": 299,
   "id": "0c0ceb9a",
   "metadata": {},
   "outputs": [
    {
     "data": {
      "text/plain": [
       "array([[ 75,   8],\n",
       "       [ 25, 156],\n",
       "       [ 21,  56]])"
      ]
     },
     "execution_count": 299,
     "metadata": {},
     "output_type": "execute_result"
    }
   ],
   "source": [
    "X * A"
   ]
  },
  {
   "cell_type": "markdown",
   "id": "5f28c6d5",
   "metadata": {},
   "source": [
    "Matrix multiplication with a vector: "
   ]
  },
  {
   "cell_type": "code",
   "execution_count": 300,
   "id": "0d06dce0",
   "metadata": {},
   "outputs": [
    {
     "data": {
      "text/plain": [
       "array([1, 2])"
      ]
     },
     "execution_count": 300,
     "metadata": {},
     "output_type": "execute_result"
    }
   ],
   "source": [
    "b = np.array([1, 2])\n",
    "b"
   ]
  },
  {
   "cell_type": "code",
   "execution_count": 301,
   "id": "5632be11",
   "metadata": {},
   "outputs": [
    {
     "data": {
      "text/plain": [
       "array([11, 17, 23])"
      ]
     },
     "execution_count": 301,
     "metadata": {},
     "output_type": "execute_result"
    }
   ],
   "source": [
    "np.dot(A, b)"
   ]
  },
  {
   "cell_type": "markdown",
   "id": "176d6d23",
   "metadata": {},
   "source": [
    "Matrix multiplication with two matrices:"
   ]
  },
  {
   "cell_type": "code",
   "execution_count": 302,
   "id": "f5e28a11",
   "metadata": {},
   "outputs": [
    {
     "data": {
      "text/plain": [
       "array([[1, 9],\n",
       "       [2, 0]])"
      ]
     },
     "execution_count": 302,
     "metadata": {},
     "output_type": "execute_result"
    }
   ],
   "source": [
    "B = np.array([[1, 9], [2, 0]])\n",
    "B"
   ]
  },
  {
   "cell_type": "code",
   "execution_count": 303,
   "id": "13b17376",
   "metadata": {},
   "outputs": [
    {
     "data": {
      "text/plain": [
       "array([[11, 27],\n",
       "       [17, 45],\n",
       "       [23, 63]])"
      ]
     },
     "execution_count": 303,
     "metadata": {},
     "output_type": "execute_result"
    }
   ],
   "source": [
    "np.dot(A, B)"
   ]
  },
  {
   "cell_type": "markdown",
   "id": "06024732",
   "metadata": {},
   "source": [
    "### Matrix Inversion"
   ]
  },
  {
   "cell_type": "code",
   "execution_count": 304,
   "id": "27ba065b",
   "metadata": {},
   "outputs": [
    {
     "data": {
      "text/plain": [
       "array([[ 4,  2],\n",
       "       [-5, -3]])"
      ]
     },
     "execution_count": 304,
     "metadata": {},
     "output_type": "execute_result"
    }
   ],
   "source": [
    "X = np.array([[4, 2], [-5, -3]])\n",
    "X"
   ]
  },
  {
   "cell_type": "code",
   "execution_count": 305,
   "id": "b3f18b53",
   "metadata": {},
   "outputs": [
    {
     "data": {
      "text/plain": [
       "array([[ 1.5,  1. ],\n",
       "       [-2.5, -2. ]])"
      ]
     },
     "execution_count": 305,
     "metadata": {},
     "output_type": "execute_result"
    }
   ],
   "source": [
    "Xinv = np.linalg.inv(X)\n",
    "Xinv"
   ]
  },
  {
   "cell_type": "code",
   "execution_count": 306,
   "id": "6daf14ad",
   "metadata": {},
   "outputs": [
    {
     "data": {
      "text/plain": [
       "array([ 4, -7])"
      ]
     },
     "execution_count": 306,
     "metadata": {},
     "output_type": "execute_result"
    }
   ],
   "source": [
    "y= np.array([4, -7])\n",
    "y"
   ]
  },
  {
   "cell_type": "code",
   "execution_count": 307,
   "id": "66b3d355",
   "metadata": {},
   "outputs": [
    {
     "data": {
      "text/plain": [
       "array([-1.,  4.])"
      ]
     },
     "execution_count": 307,
     "metadata": {},
     "output_type": "execute_result"
    }
   ],
   "source": [
    "w = np.dot(Xinv, y)\n",
    "w"
   ]
  },
  {
   "cell_type": "markdown",
   "id": "b784d41b",
   "metadata": {},
   "source": [
    "Show that $y = Xw$: "
   ]
  },
  {
   "cell_type": "code",
   "execution_count": 308,
   "id": "799dd0a6",
   "metadata": {},
   "outputs": [
    {
     "data": {
      "text/plain": [
       "array([ 4., -7.])"
      ]
     },
     "execution_count": 308,
     "metadata": {},
     "output_type": "execute_result"
    }
   ],
   "source": [
    "np.dot(X, w)"
   ]
  },
  {
   "cell_type": "markdown",
   "id": "2fa32765",
   "metadata": {},
   "source": [
    "## Segment 2: Eigendecomposition"
   ]
  },
  {
   "cell_type": "markdown",
   "id": "708c9fe9",
   "metadata": {},
   "source": [
    "### Affine Transformation via Matrix Application"
   ]
  },
  {
   "cell_type": "markdown",
   "id": "389d8340",
   "metadata": {},
   "source": [
    "Let's say we have a vector $v$:"
   ]
  },
  {
   "cell_type": "code",
   "execution_count": 309,
   "id": "80cf6a9e",
   "metadata": {},
   "outputs": [
    {
     "data": {
      "text/plain": [
       "array([3, 1])"
      ]
     },
     "execution_count": 309,
     "metadata": {},
     "output_type": "execute_result"
    }
   ],
   "source": [
    "v = np.array([3, 1])\n",
    "v"
   ]
  },
  {
   "cell_type": "markdown",
   "id": "65cda0bc",
   "metadata": {},
   "source": [
    "Let's plot $v$ using my `plot_vectors()` function (which is based on Hadrien Jean's `plotVectors()` function from [this notebook](https://github.com/hadrienj/deepLearningBook-Notes/blob/master/2.7%20Eigendecomposition/2.7%20Eigendecomposition.ipynb), under [MIT license](https://github.com/hadrienj/deepLearningBook-Notes/blob/master/LICENSE))."
   ]
  },
  {
   "cell_type": "code",
   "execution_count": 310,
   "id": "ee6061d7",
   "metadata": {},
   "outputs": [],
   "source": [
    "import matplotlib.pyplot as plt"
   ]
  },
  {
   "cell_type": "code",
   "execution_count": 311,
   "id": "10f11894",
   "metadata": {},
   "outputs": [],
   "source": [
    "def plot_vectors(vectors, colors):\n",
    "    \"\"\"\n",
    "    Plot one or more vectors in a 2D plane, specifying a color for each. \n",
    "\n",
    "    Arguments\n",
    "    ---------\n",
    "    vectors: list of lists or of arrays\n",
    "        Coordinates of the vectors to plot. For example, [[1, 3], [2, 2]] \n",
    "        contains two vectors to plot, [1, 3] and [2, 2].\n",
    "    colors: list\n",
    "        Colors of the vectors. For instance: ['red', 'blue'] will display the\n",
    "        first vector in red and the second in blue.\n",
    "        \n",
    "    Example\n",
    "    -------\n",
    "    plot_vectors([[1, 3], [2, 2]], ['red', 'blue'])\n",
    "    plt.xlim(-1, 4)\n",
    "    plt.ylim(-1, 4)\n",
    "    \"\"\"\n",
    "    plt.figure()\n",
    "    plt.axvline(x=0, color='lightgray')\n",
    "    plt.axhline(y=0, color='lightgray')\n",
    "\n",
    "    for i in range(len(vectors)):\n",
    "        x = np.concatenate([[0,0],vectors[i]])\n",
    "        plt.quiver([x[0]], [x[1]], [x[2]], [x[3]],\n",
    "                   angles='xy', scale_units='xy', scale=1, color=colors[i],)"
   ]
  },
  {
   "cell_type": "code",
   "execution_count": 312,
   "id": "af838c9f",
   "metadata": {},
   "outputs": [
    {
     "data": {
      "image/png": "[encoded data removed]",
      "text/plain": [
       "<Figure size 432x288 with 1 Axes>"
      ]
     },
     "metadata": {
      "needs_background": "light"
     },
     "output_type": "display_data"
    }
   ],
   "source": [
    "plot_vectors([v], ['lightblue'])\n",
    "plt.xlim(-1, 5)\n",
    "_ = plt.ylim(-1, 5)"
   ]
  },
  {
   "cell_type": "markdown",
   "id": "95d11de7",
   "metadata": {},
   "source": [
    "\"Applying\" a matrix to a vector (i.e., performing matrix-vector multiplication) can linearly transform the vector, e.g, rotate it or rescale it."
   ]
  },
  {
   "cell_type": "markdown",
   "id": "ac895800",
   "metadata": {},
   "source": [
    "The identity matrix, introduced earlier, is the exception that proves the rule: Applying an identity matrix does not transform the vector: "
   ]
  },
  {
   "cell_type": "code",
   "execution_count": 313,
   "id": "30805e5c",
   "metadata": {},
   "outputs": [
    {
     "data": {
      "text/plain": [
       "array([[1, 0],\n",
       "       [0, 1]])"
      ]
     },
     "execution_count": 313,
     "metadata": {},
     "output_type": "execute_result"
    }
   ],
   "source": [
    "I = np.array([[1, 0], [0,1]])\n",
    "I"
   ]
  },
  {
   "cell_type": "code",
   "execution_count": 314,
   "id": "b12d016f",
   "metadata": {},
   "outputs": [
    {
     "data": {
      "text/plain": [
       "array([3, 1])"
      ]
     },
     "execution_count": 314,
     "metadata": {},
     "output_type": "execute_result"
    }
   ],
   "source": [
    "Iv = np.dot(I, v)\n",
    "Iv"
   ]
  },
  {
   "cell_type": "code",
   "execution_count": 315,
   "id": "ddd52dda",
   "metadata": {},
   "outputs": [
    {
     "data": {
      "text/plain": [
       "array([ True,  True])"
      ]
     },
     "execution_count": 315,
     "metadata": {},
     "output_type": "execute_result"
    }
   ],
   "source": [
    "v == Iv"
   ]
  },
  {
   "cell_type": "code",
   "execution_count": 316,
   "id": "ccb33fe3",
   "metadata": {},
   "outputs": [
    {
     "data": {
      "image/png": "[encoded data removed]",
      "text/plain": [
       "<Figure size 432x288 with 1 Axes>"
      ]
     },
     "metadata": {
      "needs_background": "light"
     },
     "output_type": "display_data"
    }
   ],
   "source": [
    "plot_vectors([Iv], ['blue'])\n",
    "plt.xlim(-1, 5)\n",
    "_ = plt.ylim(-1,5)"
   ]
  },
  {
   "cell_type": "markdown",
   "id": "f93e76d6",
   "metadata": {},
   "source": [
    "In contrast, consider this matrix (let's call it $E$) that flips vectors over the $x$-axis: "
   ]
  },
  {
   "cell_type": "code",
   "execution_count": 317,
   "id": "8bc5005c",
   "metadata": {},
   "outputs": [
    {
     "data": {
      "text/plain": [
       "array([[ 1,  0],\n",
       "       [ 0, -1]])"
      ]
     },
     "execution_count": 317,
     "metadata": {},
     "output_type": "execute_result"
    }
   ],
   "source": [
    "E = np.array([[1, 0], [0, -1]])\n",
    "E"
   ]
  },
  {
   "cell_type": "code",
   "execution_count": 318,
   "id": "8a735272",
   "metadata": {},
   "outputs": [
    {
     "data": {
      "text/plain": [
       "array([ 3, -1])"
      ]
     },
     "execution_count": 318,
     "metadata": {},
     "output_type": "execute_result"
    }
   ],
   "source": [
    "Ev = np.dot(E,v)\n",
    "Ev"
   ]
  },
  {
   "cell_type": "code",
   "execution_count": 319,
   "id": "229b07c0",
   "metadata": {},
   "outputs": [
    {
     "data": {
      "image/png": "[encoded data removed]",
      "text/plain": [
       "<Figure size 432x288 with 1 Axes>"
      ]
     },
     "metadata": {
      "needs_background": "light"
     },
     "output_type": "display_data"
    }
   ],
   "source": [
    "plot_vectors([v, Ev], ['red', 'blue'])\n",
    "plt.xlim(-1, 5)\n",
    "_ = plt.ylim(-3, 3)"
   ]
  },
  {
   "cell_type": "markdown",
   "id": "62c454de",
   "metadata": {},
   "source": [
    "Or, this matrix, $F$, which flips vectors over the $y$-axis: "
   ]
  },
  {
   "cell_type": "code",
   "execution_count": 320,
   "id": "195541d9",
   "metadata": {},
   "outputs": [
    {
     "data": {
      "text/plain": [
       "array([[-1,  0],\n",
       "       [ 0,  1]])"
      ]
     },
     "execution_count": 320,
     "metadata": {},
     "output_type": "execute_result"
    }
   ],
   "source": [
    "F = np.array([[-1, 0], [0, 1]])\n",
    "F"
   ]
  },
  {
   "cell_type": "code",
   "execution_count": 321,
   "id": "38613f63",
   "metadata": {},
   "outputs": [
    {
     "data": {
      "text/plain": [
       "array([-3,  1])"
      ]
     },
     "execution_count": 321,
     "metadata": {},
     "output_type": "execute_result"
    }
   ],
   "source": [
    "Fv = np.dot(F,v)\n",
    "Fv"
   ]
  },
  {
   "cell_type": "code",
   "execution_count": 322,
   "id": "177558fc",
   "metadata": {},
   "outputs": [
    {
     "data": {
      "image/png": "[encoded data removed]",
      "text/plain": [
       "<Figure size 432x288 with 1 Axes>"
      ]
     },
     "metadata": {
      "needs_background": "light"
     },
     "output_type": "display_data"
    }
   ],
   "source": [
    "plot_vectors([v, Fv], ['red', 'blue'])\n",
    "plt.xlim(-4, 4)\n",
    "_ = plt.ylim(-1, 5)"
   ]
  },
  {
   "cell_type": "markdown",
   "id": "1c27547c",
   "metadata": {},
   "source": [
    "Applying a flipping matrix is an example of an **affine transformation**: a change in geometry that may adjust distances or angles between vectors, but preserves parallelism between them.\n",
    "\n",
    "In addition to flipping a matrix over an axis (a.k.a., *reflection*), other common affine transformations include:\n",
    "* *Scaling* (changing the length of vectors)\n",
    "* *Shearing* (example of this on the Mona Lisa coming up shortly)\n",
    "* *Rotation* \n",
    "\n",
    "(See [here](https://stackabuse.com/affine-image-transformations-in-python-with-numpy-pillow-and-opencv/) for an outstanding blog post on affine transformations in Python, including how to apply them to images as well as vectors.)"
   ]
  },
  {
   "cell_type": "markdown",
   "id": "840c2129",
   "metadata": {},
   "source": [
    "A single matrix can apply multiple affine transforms simultaneously (e.g., flip over an axis and rotate 45 degrees). As an example, let's see what happens when we apply this matrix $A$ to the vector $v$: "
   ]
  },
  {
   "cell_type": "code",
   "execution_count": 323,
   "id": "8056ca71",
   "metadata": {},
   "outputs": [
    {
     "data": {
      "text/plain": [
       "array([[-1,  4],\n",
       "       [ 2, -2]])"
      ]
     },
     "execution_count": 323,
     "metadata": {},
     "output_type": "execute_result"
    }
   ],
   "source": [
    "A = np.array([[-1, 4], [2, -2]])\n",
    "A"
   ]
  },
  {
   "cell_type": "code",
   "execution_count": 324,
   "id": "7c76129f",
   "metadata": {},
   "outputs": [
    {
     "data": {
      "text/plain": [
       "array([1, 4])"
      ]
     },
     "execution_count": 324,
     "metadata": {},
     "output_type": "execute_result"
    }
   ],
   "source": [
    "Av = np.dot(A, v)\n",
    "Av"
   ]
  },
  {
   "cell_type": "code",
   "execution_count": 325,
   "id": "6af14596",
   "metadata": {},
   "outputs": [
    {
     "data": {
      "image/png": "[encoded data removed]",
      "text/plain": [
       "<Figure size 432x288 with 1 Axes>"
      ]
     },
     "metadata": {
      "needs_background": "light"
     },
     "output_type": "display_data"
    }
   ],
   "source": [
    "plot_vectors([v, Av], ['red', 'blue'])\n",
    "plt.xlim(-1, 5)\n",
    "_ = plt.ylim(-1, 5)"
   ]
  },
  {
   "cell_type": "code",
   "execution_count": 326,
   "id": "9c376983",
   "metadata": {},
   "outputs": [
    {
     "data": {
      "image/png": "[encoded data removed]",
      "text/plain": [
       "<Figure size 432x288 with 1 Axes>"
      ]
     },
     "metadata": {
      "needs_background": "light"
     },
     "output_type": "display_data"
    }
   ],
   "source": [
    "v2 = np.array([2, 1])\n",
    "plot_vectors([v2, np.dot(A, v2)], [\"red\", \"blue\"])\n",
    "plt.xlim(-1, 5)\n",
    "_ = plt.ylim(-1, 5)"
   ]
  },
  {
   "cell_type": "markdown",
   "id": "48a14af5",
   "metadata": {},
   "source": [
    "We can concatenate several vectors together into a matrix (say, $V$), where each column is a separate vector. Then, whatever linear transformations we apply to $V$ will be independently applied to each column (vector): "
   ]
  },
  {
   "cell_type": "code",
   "execution_count": 327,
   "id": "9166cb77",
   "metadata": {},
   "outputs": [
    {
     "data": {
      "text/plain": [
       "array([3, 1])"
      ]
     },
     "execution_count": 327,
     "metadata": {},
     "output_type": "execute_result"
    }
   ],
   "source": [
    "v"
   ]
  },
  {
   "cell_type": "code",
   "execution_count": 328,
   "id": "020a6f3e",
   "metadata": {},
   "outputs": [
    {
     "data": {
      "text/plain": [
       "matrix([[3],\n",
       "        [1]])"
      ]
     },
     "execution_count": 328,
     "metadata": {},
     "output_type": "execute_result"
    }
   ],
   "source": [
    "np.matrix(v).T"
   ]
  },
  {
   "cell_type": "code",
   "execution_count": 329,
   "id": "da7e2c13",
   "metadata": {},
   "outputs": [],
   "source": [
    "v3 = np.array([-3, -1])\n",
    "v4 = np.array([-1, 1])"
   ]
  },
  {
   "cell_type": "code",
   "execution_count": 330,
   "id": "49af554a",
   "metadata": {},
   "outputs": [
    {
     "data": {
      "text/plain": [
       "array([3, 1])"
      ]
     },
     "execution_count": 330,
     "metadata": {},
     "output_type": "execute_result"
    }
   ],
   "source": [
    "V = np.concatenate((np.matrix(v).T,\n",
    "                    np.matrix(v2).T,\n",
    "                    np.matrix(v3).T,\n",
    "                    np.matrix(v4).T),\n",
    "                   axis=1)\n",
    "\n",
    "v"
   ]
  },
  {
   "cell_type": "code",
   "execution_count": 331,
   "id": "dec66e8e",
   "metadata": {},
   "outputs": [
    {
     "data": {
      "text/plain": [
       "matrix([[ 3,  2, -3, -1],\n",
       "        [ 1,  1, -1,  1]])"
      ]
     },
     "execution_count": 331,
     "metadata": {},
     "output_type": "execute_result"
    }
   ],
   "source": [
    "IV = np.dot(I, V)\n",
    "IV"
   ]
  },
  {
   "cell_type": "code",
   "execution_count": 332,
   "id": "c82549ad",
   "metadata": {},
   "outputs": [
    {
     "data": {
      "text/plain": [
       "matrix([[ 1,  2, -1,  5],\n",
       "        [ 4,  2, -4, -4]])"
      ]
     },
     "execution_count": 332,
     "metadata": {},
     "output_type": "execute_result"
    }
   ],
   "source": [
    "AV = np.dot(A, V)\n",
    "AV"
   ]
  },
  {
   "cell_type": "code",
   "execution_count": 333,
   "id": "f43f6049",
   "metadata": {},
   "outputs": [],
   "source": [
    "def vectorfy(mtrx, clmn):\n",
    "    return np.array(mtrx[:, clmn]).reshape(-1)"
   ]
  },
  {
   "cell_type": "code",
   "execution_count": 334,
   "id": "37209eff",
   "metadata": {},
   "outputs": [
    {
     "data": {
      "text/plain": [
       "array([3, 1])"
      ]
     },
     "execution_count": 334,
     "metadata": {},
     "output_type": "execute_result"
    }
   ],
   "source": [
    "vectorfy(V, 0)"
   ]
  },
  {
   "cell_type": "code",
   "execution_count": 335,
   "id": "1c1c832f",
   "metadata": {},
   "outputs": [
    {
     "data": {
      "text/plain": [
       "array([ True,  True])"
      ]
     },
     "execution_count": 335,
     "metadata": {},
     "output_type": "execute_result"
    }
   ],
   "source": [
    "vectorfy(V, 0) == v"
   ]
  },
  {
   "cell_type": "code",
   "execution_count": 336,
   "id": "e714400e",
   "metadata": {},
   "outputs": [
    {
     "data": {
      "image/png": "[encoded data removed]",
      "text/plain": [
       "<Figure size 432x288 with 1 Axes>"
      ]
     },
     "metadata": {
      "needs_background": "light"
     },
     "output_type": "display_data"
    }
   ],
   "source": [
    "plot_vectors([vectorfy(V, 0), vectorfy(V, 1), vectorfy(V, 2), vectorfy(V, 3),\n",
    "             vectorfy(AV, 0), vectorfy(AV, 1), vectorfy(AV, 2), vectorfy(AV, 3)], \n",
    "            ['lightblue', 'lightgreen', 'lightgray', 'orange',\n",
    "             'blue', 'green', 'gray', 'red'])\n",
    "plt.xlim(-4, 6)\n",
    "_ = plt.ylim(-5, 5)"
   ]
  },
  {
   "cell_type": "markdown",
   "id": "9adb9ad8",
   "metadata": {},
   "source": [
    "Now that we can appreciate the linear transformation of vectors by matrices, let's move on to working with eigenvectors and eigenvalues..."
   ]
  },
  {
   "cell_type": "markdown",
   "id": "d6dea12b",
   "metadata": {},
   "source": [
    "### Eigenvectors and Eigenvalues"
   ]
  },
  {
   "cell_type": "markdown",
   "id": "7727107c",
   "metadata": {},
   "source": [
    "An **eigenvector** (*eigen* is German for \"typical\"; we could translate *eigenvector* to \"characteristic vector\") is a special vector $v$ such that when it is transformed by some matrix (let's say $A$), the product $Av$ has the exact same direction as $v$.\n",
    "\n",
    "An **eigenvalue** is a scalar (traditionally represented as $\\lambda$) that simply scales the eigenvector $v$ such that the following equation is satisfied: \n",
    "\n",
    "$Av = \\lambda v$"
   ]
  },
  {
   "cell_type": "code",
   "execution_count": 337,
   "id": "1053857c",
   "metadata": {},
   "outputs": [
    {
     "data": {
      "text/plain": [
       "array([[-1,  4],\n",
       "       [ 2, -2]])"
      ]
     },
     "execution_count": 337,
     "metadata": {},
     "output_type": "execute_result"
    }
   ],
   "source": [
    "A"
   ]
  },
  {
   "cell_type": "markdown",
   "id": "8da9e2a6",
   "metadata": {},
   "source": [
    "Eigenvectors and eigenvalues can be derived algebraically (e.g., with the [QR algorithm](https://en.wikipedia.org/wiki/QR_algorithm), which was independently developed in the 1950s by both [Vera Kublanovskaya](https://en.wikipedia.org/wiki/Vera_Kublanovskaya) and John Francis), however this is outside scope of the *ML Foundations* series. We'll cheat with NumPy `eig()` method, which returns a tuple of: \n",
    "\n",
    "* a vector of eigenvalues\n",
    "* a matrix of eigenvectors"
   ]
  },
  {
   "cell_type": "code",
   "execution_count": 338,
   "id": "f225dde1",
   "metadata": {},
   "outputs": [],
   "source": [
    "lambdas, V = np.linalg.eig(A) "
   ]
  },
  {
   "cell_type": "markdown",
   "id": "951d7e93",
   "metadata": {},
   "source": [
    "The matrix contains as many eigenvectors as there are columns of A: "
   ]
  },
  {
   "cell_type": "code",
   "execution_count": 339,
   "id": "f46791be",
   "metadata": {},
   "outputs": [
    {
     "data": {
      "text/plain": [
       "array([[ 0.86011126, -0.76454754],\n",
       "       [ 0.51010647,  0.64456735]])"
      ]
     },
     "execution_count": 339,
     "metadata": {},
     "output_type": "execute_result"
    }
   ],
   "source": [
    "V"
   ]
  },
  {
   "cell_type": "markdown",
   "id": "0c20abd6",
   "metadata": {},
   "source": [
    "With a corresponding eigenvalue for each eigenvector:"
   ]
  },
  {
   "cell_type": "code",
   "execution_count": 340,
   "id": "2baf259f",
   "metadata": {},
   "outputs": [
    {
     "data": {
      "text/plain": [
       "array([ 1.37228132, -4.37228132])"
      ]
     },
     "execution_count": 340,
     "metadata": {},
     "output_type": "execute_result"
    }
   ],
   "source": [
    "lambdas"
   ]
  },
  {
   "cell_type": "markdown",
   "id": "3a1759f9",
   "metadata": {},
   "source": [
    "Let's confirm that $Av = \\lambda v$ for the first eigenvector: "
   ]
  },
  {
   "cell_type": "code",
   "execution_count": 341,
   "id": "0684b6f1",
   "metadata": {},
   "outputs": [
    {
     "data": {
      "text/plain": [
       "array([0.86011126, 0.51010647])"
      ]
     },
     "execution_count": 341,
     "metadata": {},
     "output_type": "execute_result"
    }
   ],
   "source": [
    "v = V[:, 0]\n",
    "v"
   ]
  },
  {
   "cell_type": "code",
   "execution_count": 342,
   "id": "14e4d399",
   "metadata": {},
   "outputs": [
    {
     "data": {
      "text/plain": [
       "1.3722813232690143"
      ]
     },
     "execution_count": 342,
     "metadata": {},
     "output_type": "execute_result"
    }
   ],
   "source": [
    "lambduh = lambdas[0]\n",
    "lambduh"
   ]
  },
  {
   "cell_type": "code",
   "execution_count": 343,
   "id": "0233700e",
   "metadata": {},
   "outputs": [
    {
     "data": {
      "text/plain": [
       "array([1.18031462, 0.70000958])"
      ]
     },
     "execution_count": 343,
     "metadata": {},
     "output_type": "execute_result"
    }
   ],
   "source": [
    "Av = np.dot(A, v)\n",
    "Av"
   ]
  },
  {
   "cell_type": "code",
   "execution_count": 344,
   "id": "5bfff5f6",
   "metadata": {},
   "outputs": [
    {
     "data": {
      "text/plain": [
       "array([1.18031462, 0.70000958])"
      ]
     },
     "execution_count": 344,
     "metadata": {},
     "output_type": "execute_result"
    }
   ],
   "source": [
    "lambduh * v"
   ]
  },
  {
   "cell_type": "code",
   "execution_count": 345,
   "id": "dc20642a",
   "metadata": {},
   "outputs": [
    {
     "data": {
      "image/png": "[encoded data removed]",
      "text/plain": [
       "<Figure size 432x288 with 1 Axes>"
      ]
     },
     "metadata": {
      "needs_background": "light"
     },
     "output_type": "display_data"
    }
   ],
   "source": [
    "plot_vectors([Av, v], ['blue', 'lightblue'])\n",
    "plt.xlim(-1, 2)\n",
    "_ = plt.ylim(-1, 2)"
   ]
  },
  {
   "cell_type": "markdown",
   "id": "efe0fb4e",
   "metadata": {},
   "source": [
    "And again for the second eigenvector of A: "
   ]
  },
  {
   "cell_type": "code",
   "execution_count": 346,
   "id": "20bf5a84",
   "metadata": {},
   "outputs": [
    {
     "data": {
      "text/plain": [
       "array([-0.76454754,  0.64456735])"
      ]
     },
     "execution_count": 346,
     "metadata": {},
     "output_type": "execute_result"
    }
   ],
   "source": [
    "v2 = V[:, 1]\n",
    "v2"
   ]
  },
  {
   "cell_type": "code",
   "execution_count": 347,
   "id": "01a9d65d",
   "metadata": {},
   "outputs": [
    {
     "data": {
      "text/plain": [
       "-4.372281323269014"
      ]
     },
     "execution_count": 347,
     "metadata": {},
     "output_type": "execute_result"
    }
   ],
   "source": [
    "lambda2 = lambdas[1]\n",
    "lambda2"
   ]
  },
  {
   "cell_type": "code",
   "execution_count": 348,
   "id": "3f982c77",
   "metadata": {},
   "outputs": [
    {
     "data": {
      "text/plain": [
       "array([ 3.34281692, -2.81822977])"
      ]
     },
     "execution_count": 348,
     "metadata": {},
     "output_type": "execute_result"
    }
   ],
   "source": [
    "Av2 = np.dot(A, v2)\n",
    "Av2"
   ]
  },
  {
   "cell_type": "code",
   "execution_count": 349,
   "id": "fcacab59",
   "metadata": {},
   "outputs": [
    {
     "data": {
      "text/plain": [
       "array([ 3.34281692, -2.81822977])"
      ]
     },
     "execution_count": 349,
     "metadata": {},
     "output_type": "execute_result"
    }
   ],
   "source": [
    "lambda2 * v2"
   ]
  },
  {
   "cell_type": "code",
   "execution_count": 350,
   "id": "fab5deac",
   "metadata": {},
   "outputs": [
    {
     "data": {
      "image/png": "[encoded data removed]",
      "text/plain": [
       "<Figure size 432x288 with 1 Axes>"
      ]
     },
     "metadata": {
      "needs_background": "light"
     },
     "output_type": "display_data"
    }
   ],
   "source": [
    "plot_vectors([Av, v, Av2, v2], [\"blue\", \"lightblue\", \"green\", \"lightgreen\"])\n",
    "plt.xlim(-1, 4)\n",
    "_ = plt.ylim(-3, 2)"
   ]
  },
  {
   "cell_type": "markdown",
   "id": "18911f9c",
   "metadata": {},
   "source": [
    "### Eigenvectors in >2 Dimensions"
   ]
  },
  {
   "cell_type": "markdown",
   "id": "3dd89a13",
   "metadata": {},
   "source": [
    "While plotting gets trickier in higher-dimensional spaces, we can nevertheless find and use eigenvectors with more than two dimensions. Here's a 3D example (there are three dimensions handled over three rows): "
   ]
  },
  {
   "cell_type": "code",
   "execution_count": 351,
   "id": "6162a222",
   "metadata": {},
   "outputs": [
    {
     "data": {
      "text/plain": [
       "array([[25,  2,  9],\n",
       "       [ 5, 26, -5],\n",
       "       [ 3,  7, -1]])"
      ]
     },
     "execution_count": 351,
     "metadata": {},
     "output_type": "execute_result"
    }
   ],
   "source": [
    "X = np.array([[25, 2, 9], [5, 26, -5], [3, 7, -1]])\n",
    "X"
   ]
  },
  {
   "cell_type": "code",
   "execution_count": 352,
   "id": "77c28357",
   "metadata": {},
   "outputs": [],
   "source": [
    "lambdas_X, V_X = np.linalg.eig(X)"
   ]
  },
  {
   "cell_type": "code",
   "execution_count": 353,
   "id": "569cf290",
   "metadata": {},
   "outputs": [
    {
     "data": {
      "text/plain": [
       "array([[-0.71175736, -0.6501921 , -0.34220476],\n",
       "       [-0.66652125,  0.74464056,  0.23789717],\n",
       "       [-0.22170001,  0.15086635,  0.90901091]])"
      ]
     },
     "execution_count": 353,
     "metadata": {},
     "output_type": "execute_result"
    }
   ],
   "source": [
    "V_X"
   ]
  },
  {
   "cell_type": "code",
   "execution_count": 354,
   "id": "eda4dace",
   "metadata": {},
   "outputs": [
    {
     "data": {
      "text/plain": [
       "array([29.67623202, 20.62117365, -0.29740567])"
      ]
     },
     "execution_count": 354,
     "metadata": {},
     "output_type": "execute_result"
    }
   ],
   "source": [
    "lambdas_X"
   ]
  },
  {
   "cell_type": "markdown",
   "id": "e859a0ae",
   "metadata": {},
   "source": [
    "Confirm $Xv = \\lambda v$ for an example eigenvector: "
   ]
  },
  {
   "cell_type": "code",
   "execution_count": 355,
   "id": "76477572",
   "metadata": {},
   "outputs": [
    {
     "data": {
      "text/plain": [
       "array([-0.71175736, -0.66652125, -0.22170001])"
      ]
     },
     "execution_count": 355,
     "metadata": {},
     "output_type": "execute_result"
    }
   ],
   "source": [
    "v_X = V_X[:, 0]\n",
    "v_X"
   ]
  },
  {
   "cell_type": "code",
   "execution_count": 356,
   "id": "5121d9fd",
   "metadata": {},
   "outputs": [
    {
     "data": {
      "text/plain": [
       "29.676232023948902"
      ]
     },
     "execution_count": 356,
     "metadata": {},
     "output_type": "execute_result"
    }
   ],
   "source": [
    "lambda_X = lambdas_X[0]\n",
    "lambda_X"
   ]
  },
  {
   "cell_type": "code",
   "execution_count": 357,
   "id": "7bebb15a",
   "metadata": {},
   "outputs": [
    {
     "data": {
      "text/plain": [
       "array([-21.12227645, -19.77983919,  -6.5792208 ])"
      ]
     },
     "execution_count": 357,
     "metadata": {},
     "output_type": "execute_result"
    }
   ],
   "source": [
    "np.dot(X, v_X)"
   ]
  },
  {
   "cell_type": "code",
   "execution_count": 363,
   "id": "03a63101",
   "metadata": {},
   "outputs": [
    {
     "data": {
      "text/plain": [
       "array([-21.12227645, -19.77983919,  -6.5792208 ])"
      ]
     },
     "execution_count": 363,
     "metadata": {},
     "output_type": "execute_result"
    }
   ],
   "source": [
    "lambda_X * v_X"
   ]
  },
  {
   "cell_type": "markdown",
   "id": "0d9e1f62",
   "metadata": {},
   "source": [
    "### 2x2 Matrix Determinants"
   ]
  },
  {
   "cell_type": "code",
   "execution_count": 359,
   "id": "dd3c5e85",
   "metadata": {},
   "outputs": [
    {
     "data": {
      "text/plain": [
       "array([[ 4,  2],\n",
       "       [-5, -3]])"
      ]
     },
     "execution_count": 359,
     "metadata": {},
     "output_type": "execute_result"
    }
   ],
   "source": [
    "X = np.array([[4, 2], [-5, -3]])\n",
    "X"
   ]
  },
  {
   "cell_type": "code",
   "execution_count": 360,
   "id": "70f7819e",
   "metadata": {},
   "outputs": [
    {
     "data": {
      "text/plain": [
       "-2.0000000000000013"
      ]
     },
     "execution_count": 360,
     "metadata": {},
     "output_type": "execute_result"
    }
   ],
   "source": [
    "np.linalg.det(X)"
   ]
  },
  {
   "cell_type": "code",
   "execution_count": 361,
   "id": "40cf4ed8",
   "metadata": {},
   "outputs": [
    {
     "data": {
      "text/plain": [
       "array([[-4,  1],\n",
       "       [-8,  2]])"
      ]
     },
     "execution_count": 361,
     "metadata": {},
     "output_type": "execute_result"
    }
   ],
   "source": [
    "N = np.array([[-4, 1], [-8, 2]])\n",
    "N"
   ]
  },
  {
   "cell_type": "code",
   "execution_count": 362,
   "id": "20761475",
   "metadata": {},
   "outputs": [
    {
     "data": {
      "text/plain": [
       "0.0"
      ]
     },
     "execution_count": 362,
     "metadata": {},
     "output_type": "execute_result"
    }
   ],
   "source": [
    "np.linalg"
   ]
  },
  {
   "cell_type": "markdown",
   "id": "6a57e8a1",
   "metadata": {},
   "source": [
    "### Generalizing Determinants"
   ]
  },
  {
   "cell_type": "code",
   "execution_count": 364,
   "id": "8dcce663",
   "metadata": {},
   "outputs": [
    {
     "data": {
      "text/plain": [
       "array([[ 1,  2,  4],\n",
       "       [ 2, -1,  3],\n",
       "       [ 0,  5,  1]])"
      ]
     },
     "execution_count": 364,
     "metadata": {},
     "output_type": "execute_result"
    }
   ],
   "source": [
    "X = np.array([[1, 2, 4], [2, -1, 3], [0, 5, 1]])\n",
    "X"
   ]
  },
  {
   "cell_type": "code",
   "execution_count": 365,
   "id": "0462d330",
   "metadata": {},
   "outputs": [
    {
     "data": {
      "text/plain": [
       "19.999999999999996"
      ]
     },
     "execution_count": 365,
     "metadata": {},
     "output_type": "execute_result"
    }
   ],
   "source": [
    "np.linalg.det(X)"
   ]
  },
  {
   "cell_type": "markdown",
   "id": "5f4d5036",
   "metadata": {},
   "source": [
    "### Determinants & Eigenvalues"
   ]
  },
  {
   "cell_type": "code",
   "execution_count": 366,
   "id": "7317cac0",
   "metadata": {},
   "outputs": [
    {
     "data": {
      "text/plain": [
       "array([-3.25599251, -1.13863631,  5.39462882])"
      ]
     },
     "execution_count": 366,
     "metadata": {},
     "output_type": "execute_result"
    }
   ],
   "source": [
    "lambdas, V = np.linalg.eig(X)\n",
    "lambdas"
   ]
  },
  {
   "cell_type": "code",
   "execution_count": 367,
   "id": "dce1d9dd",
   "metadata": {},
   "outputs": [
    {
     "data": {
      "text/plain": [
       "19.99999999999999"
      ]
     },
     "execution_count": 367,
     "metadata": {},
     "output_type": "execute_result"
    }
   ],
   "source": [
    "np.product(lambdas)"
   ]
  },
  {
   "cell_type": "markdown",
   "id": "ea95caf5",
   "metadata": {},
   "source": [
    "Here's $|\\text{det}(X)|$ in NumPy: "
   ]
  },
  {
   "cell_type": "code",
   "execution_count": 368,
   "id": "512a08d0",
   "metadata": {},
   "outputs": [
    {
     "data": {
      "text/plain": [
       "19.999999999999996"
      ]
     },
     "execution_count": 368,
     "metadata": {},
     "output_type": "execute_result"
    }
   ],
   "source": [
    "np.abs(np.linalg.det(X))"
   ]
  },
  {
   "cell_type": "markdown",
   "id": "319aaf0e",
   "metadata": {},
   "source": [
    "Let's use a matrix $B$, which is composed of basis vectors, to explore the impact of applying matrices with varying $|\\text{det}(X)|$ values: "
   ]
  },
  {
   "cell_type": "code",
   "execution_count": 369,
   "id": "20d94c6a",
   "metadata": {},
   "outputs": [
    {
     "data": {
      "text/plain": [
       "array([[1, 0],\n",
       "       [0, 1]])"
      ]
     },
     "execution_count": 369,
     "metadata": {},
     "output_type": "execute_result"
    }
   ],
   "source": [
    "B = np.array([[1, 0], [0, 1]])\n",
    "B"
   ]
  },
  {
   "cell_type": "code",
   "execution_count": 370,
   "id": "c8df37fe",
   "metadata": {},
   "outputs": [
    {
     "data": {
      "image/png": "[encoded data removed]",
      "text/plain": [
       "<Figure size 432x288 with 1 Axes>"
      ]
     },
     "metadata": {
      "needs_background": "light"
     },
     "output_type": "display_data"
    }
   ],
   "source": [
    "plot_vectors([vectorfy(B, 0), vectorfy(B, 1)],\n",
    "             ['lightblue', 'lightgreen'])\n",
    "plt.xlim(-1, 3)\n",
    "_ = plt.ylim(-1, 3)"
   ]
  },
  {
   "cell_type": "markdown",
   "id": "6e503233",
   "metadata": {},
   "source": [
    "Let's start by applying the matrix $N$ to $B$, recalling from earlier that $N$ is singular: "
   ]
  },
  {
   "cell_type": "code",
   "execution_count": 372,
   "id": "708a96d5",
   "metadata": {},
   "outputs": [
    {
     "data": {
      "text/plain": [
       "array([[-4.,  1.],\n",
       "       [-8.,  2.]])"
      ]
     },
     "execution_count": 372,
     "metadata": {},
     "output_type": "execute_result"
    }
   ],
   "source": [
    "N = np.array([[-4, 1.], [-8, 2.]])\n",
    "N"
   ]
  },
  {
   "cell_type": "code",
   "execution_count": 373,
   "id": "b8329961",
   "metadata": {},
   "outputs": [
    {
     "data": {
      "text/plain": [
       "0.0"
      ]
     },
     "execution_count": 373,
     "metadata": {},
     "output_type": "execute_result"
    }
   ],
   "source": [
    "np.linalg.det(N)"
   ]
  },
  {
   "cell_type": "code",
   "execution_count": 374,
   "id": "67b43737",
   "metadata": {},
   "outputs": [
    {
     "data": {
      "text/plain": [
       "array([[-4.,  1.],\n",
       "       [-8.,  2.]])"
      ]
     },
     "execution_count": 374,
     "metadata": {},
     "output_type": "execute_result"
    }
   ],
   "source": [
    "NB = np.dot(N, B)\n",
    "NB"
   ]
  },
  {
   "cell_type": "code",
   "execution_count": 375,
   "id": "64cf4070",
   "metadata": {},
   "outputs": [
    {
     "data": {
      "image/png": "[encoded data removed]",
      "text/plain": [
       "<Figure size 432x288 with 1 Axes>"
      ]
     },
     "metadata": {
      "needs_background": "light"
     },
     "output_type": "display_data"
    }
   ],
   "source": [
    "plot_vectors([vectorfy(B, 0), vectorfy(B, 1), vectorfy(NB, 0), vectorfy(NB, 1)],\n",
    "            ['lightblue', 'lightgreen', 'blue', 'green'])\n",
    "plt.xlim(-6, 6)\n",
    "_ = plt.ylim(-9, 3)"
   ]
  },
  {
   "cell_type": "code",
   "execution_count": 376,
   "id": "9bd8eaf1",
   "metadata": {},
   "outputs": [
    {
     "data": {
      "text/plain": [
       "array([-2.,  0.])"
      ]
     },
     "execution_count": 376,
     "metadata": {},
     "output_type": "execute_result"
    }
   ],
   "source": [
    "lambdas, V = np.linalg.eig(N)\n",
    "lambdas"
   ]
  },
  {
   "cell_type": "markdown",
   "id": "aa2747b9",
   "metadata": {},
   "source": [
    "Aha! If any one of a matrix's eigenvalues is zero, then the product of the eigenvalues must be zero and the determinant must also be zero. "
   ]
  },
  {
   "cell_type": "markdown",
   "id": "5049e6a5",
   "metadata": {},
   "source": [
    "Now let's try applying $I_2$ to $B$: "
   ]
  },
  {
   "cell_type": "code",
   "execution_count": 377,
   "id": "133c2c69",
   "metadata": {},
   "outputs": [
    {
     "data": {
      "text/plain": [
       "array([[1, 0],\n",
       "       [0, 1]])"
      ]
     },
     "execution_count": 377,
     "metadata": {},
     "output_type": "execute_result"
    }
   ],
   "source": [
    "I"
   ]
  },
  {
   "cell_type": "code",
   "execution_count": 378,
   "id": "163c945e",
   "metadata": {},
   "outputs": [
    {
     "data": {
      "text/plain": [
       "1.0"
      ]
     },
     "execution_count": 378,
     "metadata": {},
     "output_type": "execute_result"
    }
   ],
   "source": [
    "np.linalg.det(I)"
   ]
  },
  {
   "cell_type": "code",
   "execution_count": 379,
   "id": "f16a3cb2",
   "metadata": {},
   "outputs": [
    {
     "data": {
      "text/plain": [
       "array([[1, 0],\n",
       "       [0, 1]])"
      ]
     },
     "execution_count": 379,
     "metadata": {},
     "output_type": "execute_result"
    }
   ],
   "source": [
    "IB = np.dot(I, B)\n",
    "IB"
   ]
  },
  {
   "cell_type": "code",
   "execution_count": 380,
   "id": "21b561cd",
   "metadata": {},
   "outputs": [
    {
     "data": {
      "image/png": "[encoded data removed]",
      "text/plain": [
       "<Figure size 432x288 with 1 Axes>"
      ]
     },
     "metadata": {
      "needs_background": "light"
     },
     "output_type": "display_data"
    }
   ],
   "source": [
    "plot_vectors([vectorfy(B, 0), vectorfy(B, 1), vectorfy(IB, 0), vectorfy(IB, 1)],\n",
    "            ['lightblue', 'lightgreen', 'blue', 'green'])\n",
    "plt.xlim(-1, 3)\n",
    "_ = plt.ylim(-1, 3)"
   ]
  },
  {
   "cell_type": "code",
   "execution_count": 381,
   "id": "91e8ec09",
   "metadata": {},
   "outputs": [
    {
     "data": {
      "text/plain": [
       "array([1., 1.])"
      ]
     },
     "execution_count": 381,
     "metadata": {},
     "output_type": "execute_result"
    }
   ],
   "source": [
    "lambdas, V = np.linalg.eig(I)\n",
    "lambdas"
   ]
  },
  {
   "cell_type": "markdown",
   "id": "3cbb384c",
   "metadata": {},
   "source": [
    "All right, so applying an identity matrix isn't the most exciting operation in the world. Let's now apply this matrix $J$ which is more interesting: "
   ]
  },
  {
   "cell_type": "code",
   "execution_count": 383,
   "id": "912d17db",
   "metadata": {},
   "outputs": [
    {
     "data": {
      "text/plain": [
       "array([[-0.5,  0. ],\n",
       "       [ 0. ,  2. ]])"
      ]
     },
     "execution_count": 383,
     "metadata": {},
     "output_type": "execute_result"
    }
   ],
   "source": [
    "J = np.array([[-0.5, 0], [0,2]])\n",
    "J"
   ]
  },
  {
   "cell_type": "code",
   "execution_count": 384,
   "id": "60462d93",
   "metadata": {},
   "outputs": [
    {
     "data": {
      "text/plain": [
       "-1.0"
      ]
     },
     "execution_count": 384,
     "metadata": {},
     "output_type": "execute_result"
    }
   ],
   "source": [
    "np.linalg.det(J)"
   ]
  },
  {
   "cell_type": "code",
   "execution_count": 385,
   "id": "a69783cc",
   "metadata": {},
   "outputs": [
    {
     "data": {
      "text/plain": [
       "1.0"
      ]
     },
     "execution_count": 385,
     "metadata": {},
     "output_type": "execute_result"
    }
   ],
   "source": [
    "np.abs(np.linalg.det(J))"
   ]
  },
  {
   "cell_type": "code",
   "execution_count": 386,
   "id": "e151d5a1",
   "metadata": {},
   "outputs": [
    {
     "data": {
      "text/plain": [
       "array([[-0.5,  0. ],\n",
       "       [ 0. ,  2. ]])"
      ]
     },
     "execution_count": 386,
     "metadata": {},
     "output_type": "execute_result"
    }
   ],
   "source": [
    "JB = np.dot(J, B)\n",
    "JB"
   ]
  },
  {
   "cell_type": "code",
   "execution_count": 387,
   "id": "87f19b6d",
   "metadata": {},
   "outputs": [
    {
     "data": {
      "image/png": "[encoded data removed]",
      "text/plain": [
       "<Figure size 432x288 with 1 Axes>"
      ]
     },
     "metadata": {
      "needs_background": "light"
     },
     "output_type": "display_data"
    }
   ],
   "source": [
    "plot_vectors([vectorfy(B, 0), vectorfy(B, 1), vectorfy(JB, 0), vectorfy(JB, 1)],\n",
    "            ['lightblue', 'lightgreen', 'blue', 'green'])\n",
    "plt.xlim(-1, 3)\n",
    "_ = plt.ylim(-1, 3)"
   ]
  },
  {
   "cell_type": "code",
   "execution_count": 388,
   "id": "abf0f679",
   "metadata": {},
   "outputs": [
    {
     "data": {
      "text/plain": [
       "array([-0.5,  2. ])"
      ]
     },
     "execution_count": 388,
     "metadata": {},
     "output_type": "execute_result"
    }
   ],
   "source": [
    "lambdas, V = np.linalg.eig(J)\n",
    "lambdas"
   ]
  },
  {
   "cell_type": "markdown",
   "id": "95b65c0a",
   "metadata": {},
   "source": [
    "Finally, let's apply the matrix $D$, which scales vectors by doubling along both the $x$ and $y$ axes: "
   ]
  },
  {
   "cell_type": "code",
   "execution_count": 389,
   "id": "9fba3d98",
   "metadata": {},
   "outputs": [
    {
     "data": {
      "text/plain": [
       "array([[2, 0],\n",
       "       [0, 2]])"
      ]
     },
     "execution_count": 389,
     "metadata": {},
     "output_type": "execute_result"
    }
   ],
   "source": [
    "D = I * 2\n",
    "D"
   ]
  },
  {
   "cell_type": "code",
   "execution_count": 390,
   "id": "37e7e662",
   "metadata": {},
   "outputs": [
    {
     "data": {
      "text/plain": [
       "4.0"
      ]
     },
     "execution_count": 390,
     "metadata": {},
     "output_type": "execute_result"
    }
   ],
   "source": [
    "np.linalg.det(D)"
   ]
  },
  {
   "cell_type": "code",
   "execution_count": 391,
   "id": "08bd1b5e",
   "metadata": {},
   "outputs": [
    {
     "data": {
      "text/plain": [
       "array([[2, 0],\n",
       "       [0, 2]])"
      ]
     },
     "execution_count": 391,
     "metadata": {},
     "output_type": "execute_result"
    }
   ],
   "source": [
    "DB = np.dot(D, B)\n",
    "DB"
   ]
  },
  {
   "cell_type": "code",
   "execution_count": 392,
   "id": "c33b20a3",
   "metadata": {},
   "outputs": [
    {
     "data": {
      "image/png": "[encoded data removed]",
      "text/plain": [
       "<Figure size 432x288 with 1 Axes>"
      ]
     },
     "metadata": {
      "needs_background": "light"
     },
     "output_type": "display_data"
    }
   ],
   "source": [
    "plot_vectors([vectorfy(B, 0), vectorfy(B, 1), vectorfy(DB, 0), vectorfy(DB, 1)],\n",
    "            ['lightblue', 'lightgreen', 'blue', 'green'])\n",
    "plt.xlim(-1, 3)\n",
    "_ = plt.ylim(-1, 3)"
   ]
  },
  {
   "cell_type": "code",
   "execution_count": 393,
   "id": "50f47284",
   "metadata": {},
   "outputs": [
    {
     "data": {
      "text/plain": [
       "array([2., 2.])"
      ]
     },
     "execution_count": 393,
     "metadata": {},
     "output_type": "execute_result"
    }
   ],
   "source": [
    "lambdas, V = np.linalg.eig(D)\n",
    "lambdas"
   ]
  },
  {
   "cell_type": "markdown",
   "id": "3ba07013",
   "metadata": {},
   "source": [
    "### Eigendecomposition"
   ]
  },
  {
   "cell_type": "code",
   "execution_count": null,
   "id": "2ecd2dfa",
   "metadata": {},
   "outputs": [],
   "source": []
  }
 ],
 "metadata": {
  "kernelspec": {
   "display_name": "Python 3 (ipykernel)",
   "language": "python",
   "name": "python3"
  },
  "language_info": {
   "codemirror_mode": {
    "name": "ipython",
    "version": 3
   },
   "file_extension": ".py",
   "mimetype": "text/x-python",
   "name": "python",
   "nbconvert_exporter": "python",
   "pygments_lexer": "ipython3",
   "version": "3.10.4"
  }
 },
 "nbformat": 4,
 "nbformat_minor": 5
}
