{
 "cells": [
  {
   "cell_type": "markdown",
   "id": "35cb11e7",
   "metadata": {},
   "source": [
    "# Linear Algebra II: Matrix Operations"
   ]
  },
  {
   "cell_type": "markdown",
   "id": "17455d84",
   "metadata": {},
   "source": [
    "This topic, *Linear Algebra II: Matrix Operations*, builds on the basics of linear algebra. It is essential because these intermediate-level manipulations of tensors lie at the heart of most machine learning approaches and are especially predominant in deep learning. \n",
    "\n",
    "Through the measured exposition of theory paired with interactive examples, you’ll develop an understanding of how linear algebra is used to solve for unknown values in high-dimensional spaces as well as to reduce the dimensionality of complex spaces. The content covered in this topic is itself foundational for several other topics in the *Machine Learning Foundations* series, especially *Probability & Information Theory* and *Optimization*. "
   ]
  },
  {
   "cell_type": "markdown",
   "id": "3352d43b",
   "metadata": {},
   "source": [
    "## Segment 1: Review of Introductory Linear Algebra"
   ]
  },
  {
   "cell_type": "code",
   "execution_count": 2,
   "id": "d416b1fe",
   "metadata": {},
   "outputs": [],
   "source": [
    "import numpy as np"
   ]
  },
  {
   "cell_type": "code",
   "execution_count": 3,
   "id": "318a8792",
   "metadata": {},
   "outputs": [
    {
     "data": {
      "text/plain": [
       "array([25,  2,  5])"
      ]
     },
     "execution_count": 3,
     "metadata": {},
     "output_type": "execute_result"
    }
   ],
   "source": [
    "x = np.array([25, 2, 5])\n",
    "x"
   ]
  },
  {
   "cell_type": "code",
   "execution_count": 4,
   "id": "53998cbb",
   "metadata": {},
   "outputs": [
    {
     "data": {
      "text/plain": [
       "(3,)"
      ]
     },
     "execution_count": 4,
     "metadata": {},
     "output_type": "execute_result"
    }
   ],
   "source": [
    "x.shape"
   ]
  },
  {
   "cell_type": "code",
   "execution_count": 5,
   "id": "3185c5e0",
   "metadata": {},
   "outputs": [
    {
     "data": {
      "text/plain": [
       "array([[25,  2,  5]])"
      ]
     },
     "execution_count": 5,
     "metadata": {},
     "output_type": "execute_result"
    }
   ],
   "source": [
    "x = np.array([[25, 2, 5]])\n",
    "x"
   ]
  },
  {
   "cell_type": "code",
   "execution_count": 6,
   "id": "1ee72ca0",
   "metadata": {},
   "outputs": [
    {
     "data": {
      "text/plain": [
       "(1, 3)"
      ]
     },
     "execution_count": 6,
     "metadata": {},
     "output_type": "execute_result"
    }
   ],
   "source": [
    "x.shape"
   ]
  },
  {
   "cell_type": "code",
   "execution_count": 7,
   "id": "fe57ec7c",
   "metadata": {},
   "outputs": [
    {
     "data": {
      "text/plain": [
       "array([[25],\n",
       "       [ 2],\n",
       "       [ 5]])"
      ]
     },
     "execution_count": 7,
     "metadata": {},
     "output_type": "execute_result"
    }
   ],
   "source": [
    "x.T"
   ]
  },
  {
   "cell_type": "code",
   "execution_count": 8,
   "id": "11b92af8",
   "metadata": {},
   "outputs": [
    {
     "data": {
      "text/plain": [
       "(3, 1)"
      ]
     },
     "execution_count": 8,
     "metadata": {},
     "output_type": "execute_result"
    }
   ],
   "source": [
    "x.T.shape"
   ]
  },
  {
   "cell_type": "markdown",
   "id": "fc1d3938",
   "metadata": {},
   "source": [
    "## $L^2$ Norm"
   ]
  },
  {
   "cell_type": "code",
   "execution_count": 9,
   "id": "d82c22cf",
   "metadata": {},
   "outputs": [
    {
     "data": {
      "text/plain": [
       "array([[25,  2,  5]])"
      ]
     },
     "execution_count": 9,
     "metadata": {},
     "output_type": "execute_result"
    }
   ],
   "source": [
    "x"
   ]
  },
  {
   "cell_type": "code",
   "execution_count": 10,
   "id": "fb0399d1",
   "metadata": {},
   "outputs": [
    {
     "data": {
      "text/plain": [
       "25.573423705088842"
      ]
     },
     "execution_count": 10,
     "metadata": {},
     "output_type": "execute_result"
    }
   ],
   "source": [
    "(25**2 + 2**2 + 5**2)**(1/2)"
   ]
  },
  {
   "cell_type": "code",
   "execution_count": 11,
   "id": "9d9830ff",
   "metadata": {},
   "outputs": [
    {
     "data": {
      "text/plain": [
       "25.573423705088842"
      ]
     },
     "execution_count": 11,
     "metadata": {},
     "output_type": "execute_result"
    }
   ],
   "source": [
    "np.linalg.norm(x)"
   ]
  },
  {
   "cell_type": "markdown",
   "id": "1c94a0f0",
   "metadata": {},
   "source": [
    "### Matrices"
   ]
  },
  {
   "cell_type": "code",
   "execution_count": 14,
   "id": "089e034a",
   "metadata": {},
   "outputs": [
    {
     "data": {
      "text/plain": [
       "array([[25,  2],\n",
       "       [ 5, 26],\n",
       "       [ 3,  7]])"
      ]
     },
     "execution_count": 14,
     "metadata": {},
     "output_type": "execute_result"
    }
   ],
   "source": [
    "X = np.array([[25, 2], [5, 26], [3, 7]])\n",
    "X"
   ]
  },
  {
   "cell_type": "code",
   "execution_count": 15,
   "id": "751f78c0",
   "metadata": {},
   "outputs": [
    {
     "data": {
      "text/plain": [
       "(3, 2)"
      ]
     },
     "execution_count": 15,
     "metadata": {},
     "output_type": "execute_result"
    }
   ],
   "source": [
    "X.shape"
   ]
  },
  {
   "cell_type": "markdown",
   "id": "506e00b6",
   "metadata": {},
   "source": [
    "### Matrix Transposition"
   ]
  },
  {
   "cell_type": "code",
   "execution_count": 16,
   "id": "c9b5759b",
   "metadata": {},
   "outputs": [
    {
     "data": {
      "text/plain": [
       "array([[25,  2],\n",
       "       [ 5, 26],\n",
       "       [ 3,  7]])"
      ]
     },
     "execution_count": 16,
     "metadata": {},
     "output_type": "execute_result"
    }
   ],
   "source": [
    "X"
   ]
  },
  {
   "cell_type": "code",
   "execution_count": 17,
   "id": "4c7df457",
   "metadata": {},
   "outputs": [
    {
     "data": {
      "text/plain": [
       "array([[25,  5,  3],\n",
       "       [ 2, 26,  7]])"
      ]
     },
     "execution_count": 17,
     "metadata": {},
     "output_type": "execute_result"
    }
   ],
   "source": [
    "X.T"
   ]
  },
  {
   "cell_type": "markdown",
   "id": "c2075058",
   "metadata": {},
   "source": [
    "### Matrix Multiplication"
   ]
  },
  {
   "cell_type": "code",
   "execution_count": 18,
   "id": "cbb087b2",
   "metadata": {},
   "outputs": [
    {
     "data": {
      "text/plain": [
       "array([[75,  6],\n",
       "       [15, 78],\n",
       "       [ 9, 21]])"
      ]
     },
     "execution_count": 18,
     "metadata": {},
     "output_type": "execute_result"
    }
   ],
   "source": [
    "X*3"
   ]
  },
  {
   "cell_type": "code",
   "execution_count": 19,
   "id": "b7107312",
   "metadata": {},
   "outputs": [
    {
     "data": {
      "text/plain": [
       "array([[78,  9],\n",
       "       [18, 81],\n",
       "       [12, 24]])"
      ]
     },
     "execution_count": 19,
     "metadata": {},
     "output_type": "execute_result"
    }
   ],
   "source": [
    "X*3+3"
   ]
  },
  {
   "cell_type": "markdown",
   "id": "0d8aceac",
   "metadata": {},
   "source": [
    "Using the multiplication operator on two tensors of the same size in Numpy or TensorFlow applies element-wise operations. This is the **Hadamard product** (denoted by the $\\odot$ operator, e.g., $A \\odot B$) *not* **matrix multiplication**: "
   ]
  },
  {
   "cell_type": "code",
   "execution_count": 21,
   "id": "b28a0072",
   "metadata": {},
   "outputs": [
    {
     "data": {
      "text/plain": [
       "array([[3, 4],\n",
       "       [5, 6],\n",
       "       [7, 8]])"
      ]
     },
     "execution_count": 21,
     "metadata": {},
     "output_type": "execute_result"
    }
   ],
   "source": [
    "A = np.array([[3, 4], [5, 6], [7, 8]])\n",
    "A"
   ]
  },
  {
   "cell_type": "code",
   "execution_count": 22,
   "id": "034067c1",
   "metadata": {},
   "outputs": [
    {
     "data": {
      "text/plain": [
       "array([[25,  2],\n",
       "       [ 5, 26],\n",
       "       [ 3,  7]])"
      ]
     },
     "execution_count": 22,
     "metadata": {},
     "output_type": "execute_result"
    }
   ],
   "source": [
    "X"
   ]
  },
  {
   "cell_type": "code",
   "execution_count": 23,
   "id": "0c0ceb9a",
   "metadata": {},
   "outputs": [
    {
     "data": {
      "text/plain": [
       "array([[ 75,   8],\n",
       "       [ 25, 156],\n",
       "       [ 21,  56]])"
      ]
     },
     "execution_count": 23,
     "metadata": {},
     "output_type": "execute_result"
    }
   ],
   "source": [
    "X * A"
   ]
  },
  {
   "cell_type": "markdown",
   "id": "5f28c6d5",
   "metadata": {},
   "source": [
    "Matrix multiplication with a vector: "
   ]
  },
  {
   "cell_type": "code",
   "execution_count": 24,
   "id": "0d06dce0",
   "metadata": {},
   "outputs": [
    {
     "data": {
      "text/plain": [
       "array([1, 2])"
      ]
     },
     "execution_count": 24,
     "metadata": {},
     "output_type": "execute_result"
    }
   ],
   "source": [
    "b = np.array([1, 2])\n",
    "b"
   ]
  },
  {
   "cell_type": "code",
   "execution_count": 25,
   "id": "5632be11",
   "metadata": {},
   "outputs": [
    {
     "data": {
      "text/plain": [
       "array([11, 17, 23])"
      ]
     },
     "execution_count": 25,
     "metadata": {},
     "output_type": "execute_result"
    }
   ],
   "source": [
    "np.dot(A, b)"
   ]
  },
  {
   "cell_type": "markdown",
   "id": "176d6d23",
   "metadata": {},
   "source": [
    "Matrix multiplication with two matrices:"
   ]
  },
  {
   "cell_type": "code",
   "execution_count": 27,
   "id": "f5e28a11",
   "metadata": {},
   "outputs": [
    {
     "data": {
      "text/plain": [
       "array([[1, 9],\n",
       "       [2, 0]])"
      ]
     },
     "execution_count": 27,
     "metadata": {},
     "output_type": "execute_result"
    }
   ],
   "source": [
    "B = np.array([[1, 9], [2, 0]])\n",
    "B"
   ]
  },
  {
   "cell_type": "code",
   "execution_count": 28,
   "id": "13b17376",
   "metadata": {},
   "outputs": [
    {
     "data": {
      "text/plain": [
       "array([[11, 27],\n",
       "       [17, 45],\n",
       "       [23, 63]])"
      ]
     },
     "execution_count": 28,
     "metadata": {},
     "output_type": "execute_result"
    }
   ],
   "source": [
    "np.dot(A, B)"
   ]
  },
  {
   "cell_type": "markdown",
   "id": "06024732",
   "metadata": {},
   "source": [
    "### Matrix Inversion"
   ]
  },
  {
   "cell_type": "code",
   "execution_count": 29,
   "id": "27ba065b",
   "metadata": {},
   "outputs": [
    {
     "data": {
      "text/plain": [
       "array([[ 4,  2],\n",
       "       [-5, -3]])"
      ]
     },
     "execution_count": 29,
     "metadata": {},
     "output_type": "execute_result"
    }
   ],
   "source": [
    "X = np.array([[4, 2], [-5, -3]])\n",
    "X"
   ]
  },
  {
   "cell_type": "code",
   "execution_count": 31,
   "id": "b3f18b53",
   "metadata": {},
   "outputs": [
    {
     "data": {
      "text/plain": [
       "array([[ 1.5,  1. ],\n",
       "       [-2.5, -2. ]])"
      ]
     },
     "execution_count": 31,
     "metadata": {},
     "output_type": "execute_result"
    }
   ],
   "source": [
    "Xinv = np.linalg.inv(X)\n",
    "Xinv"
   ]
  },
  {
   "cell_type": "code",
   "execution_count": 33,
   "id": "6daf14ad",
   "metadata": {},
   "outputs": [
    {
     "data": {
      "text/plain": [
       "array([ 4, -7])"
      ]
     },
     "execution_count": 33,
     "metadata": {},
     "output_type": "execute_result"
    }
   ],
   "source": [
    "y= np.array([4, -7])\n",
    "y"
   ]
  },
  {
   "cell_type": "code",
   "execution_count": 35,
   "id": "66b3d355",
   "metadata": {},
   "outputs": [
    {
     "data": {
      "text/plain": [
       "array([-1.,  4.])"
      ]
     },
     "execution_count": 35,
     "metadata": {},
     "output_type": "execute_result"
    }
   ],
   "source": [
    "w = np.dot(Xinv, y)\n",
    "w"
   ]
  },
  {
   "cell_type": "markdown",
   "id": "b784d41b",
   "metadata": {},
   "source": [
    "Show that $y = Xw$: "
   ]
  },
  {
   "cell_type": "code",
   "execution_count": 36,
   "id": "799dd0a6",
   "metadata": {},
   "outputs": [
    {
     "data": {
      "text/plain": [
       "array([ 4., -7.])"
      ]
     },
     "execution_count": 36,
     "metadata": {},
     "output_type": "execute_result"
    }
   ],
   "source": [
    "np.dot(X, w)"
   ]
  },
  {
   "cell_type": "markdown",
   "id": "2fa32765",
   "metadata": {},
   "source": [
    "## Segment 2: Eigendecomposition"
   ]
  },
  {
   "cell_type": "code",
   "execution_count": null,
   "id": "c653641b",
   "metadata": {},
   "outputs": [],
   "source": []
  }
 ],
 "metadata": {
  "kernelspec": {
   "display_name": "Python 3 (ipykernel)",
   "language": "python",
   "name": "python3"
  },
  "language_info": {
   "codemirror_mode": {
    "name": "ipython",
    "version": 3
   },
   "file_extension": ".py",
   "mimetype": "text/x-python",
   "name": "python",
   "nbconvert_exporter": "python",
   "pygments_lexer": "ipython3",
   "version": "3.10.4"
  }
 },
 "nbformat": 4,
 "nbformat_minor": 5
}
