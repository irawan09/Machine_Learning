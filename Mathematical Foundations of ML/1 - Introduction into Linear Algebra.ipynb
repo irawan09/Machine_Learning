{
 "cells": [
  {
   "cell_type": "markdown",
   "id": "f536247d",
   "metadata": {},
   "source": [
    "# Intro to Linear Algebra"
   ]
  },
  {
   "cell_type": "markdown",
   "id": "ece6bc78",
   "metadata": {},
   "source": [
    "This topic, *Intro to Linear Algebra*, is the first in the *Machine Learning Foundations* series. \n",
    "\n",
    "It is essential because linear algebra lies at the heart of most machine learning approaches and is especially predominant in deep learning, the branch of ML at the forefront of today’s artificial intelligence advances. Through the measured exposition of theory paired with interactive examples, you’ll develop an understanding of how linear algebra is used to solve for unknown values in high-dimensional spaces, thereby enabling machines to recognize patterns and make predictions. \n",
    "\n",
    "The content covered in *Intro to Linear Algebra* is itself foundational for all the other topics in the Machine Learning Foundations series and it is especially relevant to *Linear Algebra II*."
   ]
  },
  {
   "cell_type": "markdown",
   "id": "7f2f908a",
   "metadata": {},
   "source": [
    "*Segment 1: Data Structures for Algebra*\n",
    "\n",
    "* What Linear Algebra Is  \n",
    "* A Brief History of Algebra \n",
    "* Tensors \n",
    "* Scalars \n",
    "* Vectors and Vector Transposition\n",
    "* Norms and Unit Vectors\n",
    "* Basis, Orthogonal, and Orthonormal Vectors\n",
    "* Arrays in NumPy  \n",
    "* Matrices \n",
    "* Tensors in TensorFlow and PyTorch\n",
    "\n",
    "*Segment 2: Common Tensor Operations* \n",
    "\n",
    "* Tensor Transposition\n",
    "* Basic Tensor Arithmetic\n",
    "* Reduction\n",
    "* The Dot Product\n",
    "* Solving Linear Systems\n",
    "\n",
    "*Segment 3: Matrix Properties*\n",
    "\n",
    "* The Frobenius Norm\n",
    "* Matrix Multiplication\n",
    "* Symmetric and Identity Matrices\n",
    "* Matrix Inversion\n",
    "* Diagonal Matrices\n",
    "* Orthogonal Matrices"
   ]
  },
  {
   "cell_type": "markdown",
   "id": "44122a44",
   "metadata": {},
   "source": [
    "## Segment 1: Data Structures for Algebra\n",
    "\n",
    "**Slides used to begin segment, with focus on introducing what linear algebra is, including hands-on paper and pencil exercises.**"
   ]
  },
  {
   "cell_type": "markdown",
   "id": "1b17a10c",
   "metadata": {},
   "source": [
    "### What Linear Algebra Is"
   ]
  },
  {
   "cell_type": "code",
   "execution_count": 9,
   "id": "ccfc2529",
   "metadata": {},
   "outputs": [],
   "source": [
    "import numpy as np\n",
    "import matplotlib.pyplot as plt"
   ]
  },
  {
   "cell_type": "code",
   "execution_count": 10,
   "id": "16d2f77a",
   "metadata": {},
   "outputs": [
    {
     "data": {
      "text/plain": [
       "1000"
      ]
     },
     "execution_count": 10,
     "metadata": {},
     "output_type": "execute_result"
    }
   ],
   "source": [
    "t = np.linspace(0, 40, 1000) \n",
    "t.size"
   ]
  },
  {
   "cell_type": "markdown",
   "id": "78df7193",
   "metadata": {},
   "source": [
    "Distance travelled by robber: $d = 2.5t$"
   ]
  },
  {
   "cell_type": "code",
   "execution_count": 11,
   "id": "36350db4",
   "metadata": {},
   "outputs": [
    {
     "data": {
      "text/plain": [
       "1000"
      ]
     },
     "execution_count": 11,
     "metadata": {},
     "output_type": "execute_result"
    }
   ],
   "source": [
    "d_r = 2.5 * t\n",
    "d_r.size"
   ]
  },
  {
   "cell_type": "markdown",
   "id": "8e06c2c3",
   "metadata": {},
   "source": [
    "Distance travelled by sheriff: $d = 3(t-5)$"
   ]
  },
  {
   "cell_type": "code",
   "execution_count": 12,
   "id": "2b3ddeba",
   "metadata": {},
   "outputs": [
    {
     "data": {
      "text/plain": [
       "1000"
      ]
     },
     "execution_count": 12,
     "metadata": {},
     "output_type": "execute_result"
    }
   ],
   "source": [
    "d_s = 3* (t-5)\n",
    "d_s.size"
   ]
  },
  {
   "cell_type": "code",
   "execution_count": 13,
   "id": "f981a37a",
   "metadata": {},
   "outputs": [
    {
     "data": {
      "image/png": "[encoded data removed]",
      "text/plain": [
       "<Figure size 432x288 with 1 Axes>"
      ]
     },
     "metadata": {
      "needs_background": "light"
     },
     "output_type": "display_data"
    }
   ],
   "source": [
    "fig, ax = plt.subplots()\n",
    "plt.title(\"A Bank Robber caught\")\n",
    "plt.xlabel(\"time (minutes)\")\n",
    "plt.ylabel(\"distance (km)\")\n",
    "ax.set_xlim([0,40])\n",
    "ax.set_ylim([0,100])\n",
    "ax.plot(t, d_r, c='blue')\n",
    "ax.plot(t, d_s, c='red')\n",
    "plt.axvline(x=30, color='grey', linestyle='--')\n",
    "_ = plt.axhline(y=75, color='grey', linestyle='--')"
   ]
  },
  {
   "cell_type": "markdown",
   "id": "2073b0e4",
   "metadata": {},
   "source": [
    "### Scalars (Rank 0 Tensors) in Base Python"
   ]
  },
  {
   "cell_type": "code",
   "execution_count": 14,
   "id": "f2352347",
   "metadata": {},
   "outputs": [
    {
     "data": {
      "text/plain": [
       "25"
      ]
     },
     "execution_count": 14,
     "metadata": {},
     "output_type": "execute_result"
    }
   ],
   "source": [
    "x = 25\n",
    "x"
   ]
  },
  {
   "cell_type": "code",
   "execution_count": 15,
   "id": "b92117ee",
   "metadata": {},
   "outputs": [
    {
     "data": {
      "text/plain": [
       "int"
      ]
     },
     "execution_count": 15,
     "metadata": {},
     "output_type": "execute_result"
    }
   ],
   "source": [
    "type(x) # if we'd like more specificity (e.g., int16, uint8), we need NumPy or another numeric library"
   ]
  },
  {
   "cell_type": "code",
   "execution_count": 16,
   "id": "1d31becc",
   "metadata": {},
   "outputs": [
    {
     "data": {
      "text/plain": [
       "25.4"
      ]
     },
     "execution_count": 16,
     "metadata": {},
     "output_type": "execute_result"
    }
   ],
   "source": [
    "y = 25.4\n",
    "y"
   ]
  },
  {
   "cell_type": "code",
   "execution_count": 17,
   "id": "7782d1c1",
   "metadata": {},
   "outputs": [
    {
     "data": {
      "text/plain": [
       "float"
      ]
     },
     "execution_count": 17,
     "metadata": {},
     "output_type": "execute_result"
    }
   ],
   "source": [
    "type(y)"
   ]
  },
  {
   "cell_type": "markdown",
   "id": "0f9d4d10",
   "metadata": {},
   "source": [
    "### Scalars in TensorFlow (version 2.0 or later)\n",
    "\n",
    "Tensors created with a wrapper, all of which [you can read about here](https://www.tensorflow.org/guide/tensor):  \n",
    "\n",
    "* `tf.Variable`\n",
    "* `tf.constant`\n",
    "* `tf.placeholder`\n",
    "* `tf.SparseTensor`\n",
    "\n",
    "Most widely-used is `tf.Variable`, which we'll use here. \n",
    "\n",
    "As with TF tensors, in PyTorch we can similarly perform operations, and we can easily convert to and from NumPy arrays\n",
    "\n",
    "Also, a full list of tensor data types is available [here](https://www.tensorflow.org/api_docs/python/tf/dtypes/DType)."
   ]
  },
  {
   "cell_type": "code",
   "execution_count": 18,
   "id": "972edaad",
   "metadata": {},
   "outputs": [],
   "source": [
    "import tensorflow as tf"
   ]
  },
  {
   "cell_type": "code",
   "execution_count": 19,
   "id": "51dea930",
   "metadata": {},
   "outputs": [
    {
     "data": {
      "text/plain": [
       "<tf.Variable 'Variable:0' shape=() dtype=int16, numpy=25>"
      ]
     },
     "execution_count": 19,
     "metadata": {},
     "output_type": "execute_result"
    }
   ],
   "source": [
    "x_tf = tf.Variable(25, dtype=tf.int16)\n",
    "x_tf"
   ]
  },
  {
   "cell_type": "code",
   "execution_count": 20,
   "id": "b01a873b",
   "metadata": {},
   "outputs": [
    {
     "data": {
      "text/plain": [
       "TensorShape([])"
      ]
     },
     "execution_count": 20,
     "metadata": {},
     "output_type": "execute_result"
    }
   ],
   "source": [
    "x_tf.shape"
   ]
  },
  {
   "cell_type": "code",
   "execution_count": 21,
   "id": "4f60adf5",
   "metadata": {},
   "outputs": [
    {
     "data": {
      "text/plain": [
       "<tf.Variable 'Variable:0' shape=() dtype=int16, numpy=3>"
      ]
     },
     "execution_count": 21,
     "metadata": {},
     "output_type": "execute_result"
    }
   ],
   "source": [
    "y_tf = tf.Variable(3, dtype=tf.int16)\n",
    "y_tf"
   ]
  },
  {
   "cell_type": "code",
   "execution_count": 22,
   "id": "66ccc653",
   "metadata": {},
   "outputs": [
    {
     "data": {
      "text/plain": [
       "<tf.Tensor: shape=(), dtype=int16, numpy=28>"
      ]
     },
     "execution_count": 22,
     "metadata": {},
     "output_type": "execute_result"
    }
   ],
   "source": [
    "x_tf + y_tf"
   ]
  },
  {
   "cell_type": "code",
   "execution_count": 23,
   "id": "9813a280",
   "metadata": {},
   "outputs": [
    {
     "data": {
      "text/plain": [
       "<tf.Tensor: shape=(), dtype=int16, numpy=28>"
      ]
     },
     "execution_count": 23,
     "metadata": {},
     "output_type": "execute_result"
    }
   ],
   "source": [
    "tf_sum = tf.add(x_tf, y_tf)\n",
    "tf_sum"
   ]
  },
  {
   "cell_type": "code",
   "execution_count": 24,
   "id": "5c99be94",
   "metadata": {},
   "outputs": [
    {
     "data": {
      "text/plain": [
       "numpy.int16"
      ]
     },
     "execution_count": 24,
     "metadata": {},
     "output_type": "execute_result"
    }
   ],
   "source": [
    "type(tf_sum.numpy()) # note that NumPy operations automatically convert tensors to NumPy arrays, and vice versa"
   ]
  },
  {
   "cell_type": "code",
   "execution_count": 17,
   "id": "e0fa2bd4",
   "metadata": {},
   "outputs": [
    {
     "data": {
      "text/plain": [
       "<tf.Variable 'Variable:0' shape=() dtype=float16, numpy=25.0>"
      ]
     },
     "execution_count": 17,
     "metadata": {},
     "output_type": "execute_result"
    }
   ],
   "source": [
    "tf_float = tf.Variable(25., dtype=tf.float16)\n",
    "tf_float"
   ]
  },
  {
   "cell_type": "markdown",
   "id": "9c80bb8f",
   "metadata": {},
   "source": [
    "### Vectors (Rank 1 Tensors) in NumPy"
   ]
  },
  {
   "cell_type": "code",
   "execution_count": 18,
   "id": "f2c3dd97",
   "metadata": {},
   "outputs": [
    {
     "data": {
      "text/plain": [
       "array([25,  2,  5])"
      ]
     },
     "execution_count": 18,
     "metadata": {},
     "output_type": "execute_result"
    }
   ],
   "source": [
    "x = np.array([25,2, 5])\n",
    "x"
   ]
  },
  {
   "cell_type": "code",
   "execution_count": 19,
   "id": "82f2c07f",
   "metadata": {},
   "outputs": [
    {
     "data": {
      "text/plain": [
       "3"
      ]
     },
     "execution_count": 19,
     "metadata": {},
     "output_type": "execute_result"
    }
   ],
   "source": [
    "len(x)"
   ]
  },
  {
   "cell_type": "code",
   "execution_count": 20,
   "id": "f229ef61",
   "metadata": {},
   "outputs": [
    {
     "data": {
      "text/plain": [
       "(3,)"
      ]
     },
     "execution_count": 20,
     "metadata": {},
     "output_type": "execute_result"
    }
   ],
   "source": [
    "x.shape"
   ]
  },
  {
   "cell_type": "code",
   "execution_count": 21,
   "id": "8074622b",
   "metadata": {},
   "outputs": [
    {
     "data": {
      "text/plain": [
       "2"
      ]
     },
     "execution_count": 21,
     "metadata": {},
     "output_type": "execute_result"
    }
   ],
   "source": [
    "x[1]"
   ]
  },
  {
   "cell_type": "code",
   "execution_count": 22,
   "id": "b6672e7e",
   "metadata": {},
   "outputs": [
    {
     "data": {
      "text/plain": [
       "numpy.int32"
      ]
     },
     "execution_count": 22,
     "metadata": {},
     "output_type": "execute_result"
    }
   ],
   "source": [
    "type(x[1])"
   ]
  },
  {
   "cell_type": "markdown",
   "id": "ea940ba2",
   "metadata": {},
   "source": [
    "### Vector Transposition"
   ]
  },
  {
   "cell_type": "code",
   "execution_count": 23,
   "id": "1cf65188",
   "metadata": {},
   "outputs": [
    {
     "data": {
      "text/plain": [
       "array([25,  2,  5])"
      ]
     },
     "execution_count": 23,
     "metadata": {},
     "output_type": "execute_result"
    }
   ],
   "source": [
    "x_t = x.T\n",
    "x_t"
   ]
  },
  {
   "cell_type": "code",
   "execution_count": 24,
   "id": "57f088d9",
   "metadata": {},
   "outputs": [
    {
     "data": {
      "text/plain": [
       "(3,)"
      ]
     },
     "execution_count": 24,
     "metadata": {},
     "output_type": "execute_result"
    }
   ],
   "source": [
    "x_t.shape"
   ]
  },
  {
   "cell_type": "code",
   "execution_count": 25,
   "id": "50c2aab6",
   "metadata": {},
   "outputs": [
    {
     "data": {
      "text/plain": [
       "array([[25,  2,  5]])"
      ]
     },
     "execution_count": 25,
     "metadata": {},
     "output_type": "execute_result"
    }
   ],
   "source": [
    "y = np.array([[25, 2, 5]])\n",
    "y"
   ]
  },
  {
   "cell_type": "code",
   "execution_count": 26,
   "id": "b8e1acaa",
   "metadata": {},
   "outputs": [
    {
     "data": {
      "text/plain": [
       "(1, 3)"
      ]
     },
     "execution_count": 26,
     "metadata": {},
     "output_type": "execute_result"
    }
   ],
   "source": [
    "y.shape"
   ]
  },
  {
   "cell_type": "code",
   "execution_count": 27,
   "id": "2f625084",
   "metadata": {},
   "outputs": [
    {
     "data": {
      "text/plain": [
       "array([[25],\n",
       "       [ 2],\n",
       "       [ 5]])"
      ]
     },
     "execution_count": 27,
     "metadata": {},
     "output_type": "execute_result"
    }
   ],
   "source": [
    "y_t = y.T\n",
    "y_t"
   ]
  },
  {
   "cell_type": "code",
   "execution_count": 28,
   "id": "b75c4628",
   "metadata": {},
   "outputs": [
    {
     "data": {
      "text/plain": [
       "(3, 1)"
      ]
     },
     "execution_count": 28,
     "metadata": {},
     "output_type": "execute_result"
    }
   ],
   "source": [
    "y_t.shape"
   ]
  },
  {
   "cell_type": "markdown",
   "id": "4b9a03f3",
   "metadata": {},
   "source": [
    "### Zero Vectors\n",
    "\n",
    "Have no effect if added to another vector"
   ]
  },
  {
   "cell_type": "code",
   "execution_count": 29,
   "id": "fa14db4b",
   "metadata": {},
   "outputs": [
    {
     "data": {
      "text/plain": [
       "array([0., 0., 0.])"
      ]
     },
     "execution_count": 29,
     "metadata": {},
     "output_type": "execute_result"
    }
   ],
   "source": [
    "z = np.zeros(3)\n",
    "z"
   ]
  },
  {
   "cell_type": "markdown",
   "id": "b8f2a1cb",
   "metadata": {},
   "source": [
    "### Vectors in TensorFlow"
   ]
  },
  {
   "cell_type": "code",
   "execution_count": 30,
   "id": "f9691293",
   "metadata": {},
   "outputs": [
    {
     "data": {
      "text/plain": [
       "<tf.Variable 'Variable:0' shape=(3,) dtype=int32, numpy=array([25,  2,  5])>"
      ]
     },
     "execution_count": 30,
     "metadata": {},
     "output_type": "execute_result"
    }
   ],
   "source": [
    "x_t = tf.Variable([25, 2, 5])\n",
    "x_t"
   ]
  },
  {
   "cell_type": "markdown",
   "id": "0f8adebc",
   "metadata": {},
   "source": [
    "### $L^{2}$ Norm"
   ]
  },
  {
   "cell_type": "code",
   "execution_count": 31,
   "id": "42ace26e",
   "metadata": {},
   "outputs": [
    {
     "data": {
      "text/plain": [
       "array([25,  2,  5])"
      ]
     },
     "execution_count": 31,
     "metadata": {},
     "output_type": "execute_result"
    }
   ],
   "source": [
    "x"
   ]
  },
  {
   "cell_type": "code",
   "execution_count": 32,
   "id": "5d73dc15",
   "metadata": {},
   "outputs": [
    {
     "data": {
      "text/plain": [
       "25"
      ]
     },
     "execution_count": 32,
     "metadata": {},
     "output_type": "execute_result"
    }
   ],
   "source": [
    "(5**2)"
   ]
  },
  {
   "cell_type": "code",
   "execution_count": 33,
   "id": "397cb4c8",
   "metadata": {},
   "outputs": [
    {
     "data": {
      "text/plain": [
       "25.573423705088842"
      ]
     },
     "execution_count": 33,
     "metadata": {},
     "output_type": "execute_result"
    }
   ],
   "source": [
    "np.linalg.norm(x)"
   ]
  },
  {
   "cell_type": "markdown",
   "id": "1515140f",
   "metadata": {},
   "source": [
    "### $L^{1}$ Norm"
   ]
  },
  {
   "cell_type": "code",
   "execution_count": 34,
   "id": "d40e2ad9",
   "metadata": {},
   "outputs": [
    {
     "data": {
      "text/plain": [
       "array([25,  2,  5])"
      ]
     },
     "execution_count": 34,
     "metadata": {},
     "output_type": "execute_result"
    }
   ],
   "source": [
    "x"
   ]
  },
  {
   "cell_type": "code",
   "execution_count": 35,
   "id": "99705dc3",
   "metadata": {},
   "outputs": [
    {
     "data": {
      "text/plain": [
       "5"
      ]
     },
     "execution_count": 35,
     "metadata": {},
     "output_type": "execute_result"
    }
   ],
   "source": [
    "np.abs(5)"
   ]
  },
  {
   "cell_type": "markdown",
   "id": "cd81ea55",
   "metadata": {},
   "source": [
    "### Squared $L^{2}$ Norm"
   ]
  },
  {
   "cell_type": "code",
   "execution_count": 36,
   "id": "ca2abbd9",
   "metadata": {},
   "outputs": [
    {
     "data": {
      "text/plain": [
       "25"
      ]
     },
     "execution_count": 36,
     "metadata": {},
     "output_type": "execute_result"
    }
   ],
   "source": [
    "(x[2]**2)"
   ]
  },
  {
   "cell_type": "code",
   "execution_count": 37,
   "id": "2ebaffe8",
   "metadata": {},
   "outputs": [
    {
     "data": {
      "text/plain": [
       "25"
      ]
     },
     "execution_count": 37,
     "metadata": {},
     "output_type": "execute_result"
    }
   ],
   "source": [
    "np.dot(x[2], x[2])"
   ]
  },
  {
   "cell_type": "markdown",
   "id": "83cfe675",
   "metadata": {},
   "source": [
    "### Max Norm"
   ]
  },
  {
   "cell_type": "code",
   "execution_count": 38,
   "id": "c3ebdb45",
   "metadata": {},
   "outputs": [
    {
     "data": {
      "text/plain": [
       "array([25,  2,  5])"
      ]
     },
     "execution_count": 38,
     "metadata": {},
     "output_type": "execute_result"
    }
   ],
   "source": [
    "x"
   ]
  },
  {
   "cell_type": "code",
   "execution_count": 39,
   "id": "a086ff8f",
   "metadata": {},
   "outputs": [
    {
     "data": {
      "text/plain": [
       "25"
      ]
     },
     "execution_count": 39,
     "metadata": {},
     "output_type": "execute_result"
    }
   ],
   "source": [
    "np.max(x)"
   ]
  },
  {
   "cell_type": "markdown",
   "id": "d18ce641",
   "metadata": {},
   "source": [
    "### Orthogonal Vectors"
   ]
  },
  {
   "cell_type": "code",
   "execution_count": 40,
   "id": "a649d0ab",
   "metadata": {},
   "outputs": [
    {
     "data": {
      "text/plain": [
       "array([1, 0])"
      ]
     },
     "execution_count": 40,
     "metadata": {},
     "output_type": "execute_result"
    }
   ],
   "source": [
    "i = np.array([1,0])\n",
    "i"
   ]
  },
  {
   "cell_type": "code",
   "execution_count": 41,
   "id": "3b1eafd7",
   "metadata": {},
   "outputs": [
    {
     "data": {
      "text/plain": [
       "array([0, 1])"
      ]
     },
     "execution_count": 41,
     "metadata": {},
     "output_type": "execute_result"
    }
   ],
   "source": [
    "j = np.array([0,1])\n",
    "j"
   ]
  },
  {
   "cell_type": "code",
   "execution_count": 42,
   "id": "3c2d14a9",
   "metadata": {},
   "outputs": [
    {
     "data": {
      "text/plain": [
       "0"
      ]
     },
     "execution_count": 42,
     "metadata": {},
     "output_type": "execute_result"
    }
   ],
   "source": [
    "np.dot(i, j)"
   ]
  },
  {
   "cell_type": "markdown",
   "id": "d1746a11",
   "metadata": {},
   "source": [
    "### Matrices (Rank 2 Tensors) in NumPy"
   ]
  },
  {
   "cell_type": "code",
   "execution_count": 43,
   "id": "c61be067",
   "metadata": {},
   "outputs": [
    {
     "data": {
      "text/plain": [
       "array([[25,  2],\n",
       "       [ 5, 26],\n",
       "       [ 3,  7]])"
      ]
     },
     "execution_count": 43,
     "metadata": {},
     "output_type": "execute_result"
    }
   ],
   "source": [
    "X = np.array([[25,2], [5,26], [3,7]])\n",
    "X"
   ]
  },
  {
   "cell_type": "code",
   "execution_count": 44,
   "id": "645c81d2",
   "metadata": {},
   "outputs": [
    {
     "data": {
      "text/plain": [
       "(3, 2)"
      ]
     },
     "execution_count": 44,
     "metadata": {},
     "output_type": "execute_result"
    }
   ],
   "source": [
    "X.shape"
   ]
  },
  {
   "cell_type": "code",
   "execution_count": 45,
   "id": "aa5ab14a",
   "metadata": {},
   "outputs": [
    {
     "data": {
      "text/plain": [
       "3"
      ]
     },
     "execution_count": 45,
     "metadata": {},
     "output_type": "execute_result"
    }
   ],
   "source": [
    "x.size"
   ]
  },
  {
   "cell_type": "code",
   "execution_count": 46,
   "id": "6aa6255c",
   "metadata": {},
   "outputs": [
    {
     "data": {
      "text/plain": [
       "array([25,  5,  3])"
      ]
     },
     "execution_count": 46,
     "metadata": {},
     "output_type": "execute_result"
    }
   ],
   "source": [
    "X[:,0]"
   ]
  },
  {
   "cell_type": "code",
   "execution_count": 47,
   "id": "f9f6d6e8",
   "metadata": {},
   "outputs": [
    {
     "data": {
      "text/plain": [
       "array([ 5, 26])"
      ]
     },
     "execution_count": 47,
     "metadata": {},
     "output_type": "execute_result"
    }
   ],
   "source": [
    "X[1,:]"
   ]
  },
  {
   "cell_type": "code",
   "execution_count": 48,
   "id": "e46a2b48",
   "metadata": {},
   "outputs": [
    {
     "data": {
      "text/plain": [
       "array([[25,  2],\n",
       "       [ 5, 26]])"
      ]
     },
     "execution_count": 48,
     "metadata": {},
     "output_type": "execute_result"
    }
   ],
   "source": [
    "X[0:2, 0:2]"
   ]
  },
  {
   "cell_type": "markdown",
   "id": "48584760",
   "metadata": {},
   "source": [
    "## Matrices in TensorFlow"
   ]
  },
  {
   "cell_type": "code",
   "execution_count": 49,
   "id": "eecfb5b5",
   "metadata": {},
   "outputs": [
    {
     "data": {
      "text/plain": [
       "<tf.Variable 'Variable:0' shape=(3, 2) dtype=int32, numpy=\n",
       "array([[25,  2],\n",
       "       [ 5, 26],\n",
       "       [ 3,  7]])>"
      ]
     },
     "execution_count": 49,
     "metadata": {},
     "output_type": "execute_result"
    }
   ],
   "source": [
    "X_tf = tf.Variable([[25,2],[5,26], [3,7]])\n",
    "X_tf"
   ]
  },
  {
   "cell_type": "code",
   "execution_count": 50,
   "id": "3c6f5261",
   "metadata": {},
   "outputs": [
    {
     "data": {
      "text/plain": [
       "<tf.Tensor: shape=(), dtype=int32, numpy=2>"
      ]
     },
     "execution_count": 50,
     "metadata": {},
     "output_type": "execute_result"
    }
   ],
   "source": [
    "tf.rank(X_tf)"
   ]
  },
  {
   "cell_type": "code",
   "execution_count": 51,
   "id": "7fc1c8b9",
   "metadata": {},
   "outputs": [
    {
     "data": {
      "text/plain": [
       "<tf.Tensor: shape=(2,), dtype=int32, numpy=array([3, 2])>"
      ]
     },
     "execution_count": 51,
     "metadata": {},
     "output_type": "execute_result"
    }
   ],
   "source": [
    "tf.shape(X_tf)"
   ]
  },
  {
   "cell_type": "code",
   "execution_count": 52,
   "id": "f0f48586",
   "metadata": {},
   "outputs": [
    {
     "data": {
      "text/plain": [
       "<tf.Tensor: shape=(2,), dtype=int32, numpy=array([ 5, 26])>"
      ]
     },
     "execution_count": 52,
     "metadata": {},
     "output_type": "execute_result"
    }
   ],
   "source": [
    "X_tf[1,:]"
   ]
  },
  {
   "cell_type": "markdown",
   "id": "a16d8b5e",
   "metadata": {},
   "source": [
    "## Segment 2: Common Tensor Operations"
   ]
  },
  {
   "cell_type": "markdown",
   "id": "ade6cf9d",
   "metadata": {},
   "source": [
    "### Tensor Transposition"
   ]
  },
  {
   "cell_type": "code",
   "execution_count": 53,
   "id": "1c55fb67",
   "metadata": {},
   "outputs": [
    {
     "data": {
      "text/plain": [
       "array([[25,  2],\n",
       "       [ 5, 26],\n",
       "       [ 3,  7]])"
      ]
     },
     "execution_count": 53,
     "metadata": {},
     "output_type": "execute_result"
    }
   ],
   "source": [
    "X"
   ]
  },
  {
   "cell_type": "code",
   "execution_count": 54,
   "id": "8793422e",
   "metadata": {},
   "outputs": [
    {
     "data": {
      "text/plain": [
       "array([[25,  5,  3],\n",
       "       [ 2, 26,  7]])"
      ]
     },
     "execution_count": 54,
     "metadata": {},
     "output_type": "execute_result"
    }
   ],
   "source": [
    "X.T"
   ]
  },
  {
   "cell_type": "code",
   "execution_count": 55,
   "id": "3ed5742d",
   "metadata": {},
   "outputs": [
    {
     "data": {
      "text/plain": [
       "<tf.Tensor: shape=(2, 3), dtype=int32, numpy=\n",
       "array([[25,  5,  3],\n",
       "       [ 2, 26,  7]])>"
      ]
     },
     "execution_count": 55,
     "metadata": {},
     "output_type": "execute_result"
    }
   ],
   "source": [
    "tf.transpose(X_tf)"
   ]
  },
  {
   "cell_type": "markdown",
   "id": "ee467a1b",
   "metadata": {},
   "source": [
    "### Basic Arithmetical Properties"
   ]
  },
  {
   "cell_type": "code",
   "execution_count": 56,
   "id": "9a1f1d5e",
   "metadata": {},
   "outputs": [
    {
     "data": {
      "text/plain": [
       "array([[25,  2],\n",
       "       [ 5, 26],\n",
       "       [ 3,  7]])"
      ]
     },
     "execution_count": 56,
     "metadata": {},
     "output_type": "execute_result"
    }
   ],
   "source": [
    "X"
   ]
  },
  {
   "cell_type": "code",
   "execution_count": 57,
   "id": "286e7626",
   "metadata": {},
   "outputs": [
    {
     "data": {
      "text/plain": [
       "array([[50,  4],\n",
       "       [10, 52],\n",
       "       [ 6, 14]])"
      ]
     },
     "execution_count": 57,
     "metadata": {},
     "output_type": "execute_result"
    }
   ],
   "source": [
    "X*2"
   ]
  },
  {
   "cell_type": "code",
   "execution_count": 58,
   "id": "fb2d8284",
   "metadata": {},
   "outputs": [
    {
     "data": {
      "text/plain": [
       "array([[27,  4],\n",
       "       [ 7, 28],\n",
       "       [ 5,  9]])"
      ]
     },
     "execution_count": 58,
     "metadata": {},
     "output_type": "execute_result"
    }
   ],
   "source": [
    "X+2"
   ]
  },
  {
   "cell_type": "code",
   "execution_count": 59,
   "id": "dcdd96db",
   "metadata": {},
   "outputs": [
    {
     "data": {
      "text/plain": [
       "array([[29,  6],\n",
       "       [ 9, 30],\n",
       "       [ 7, 11]])"
      ]
     },
     "execution_count": 59,
     "metadata": {},
     "output_type": "execute_result"
    }
   ],
   "source": [
    "X+2*2"
   ]
  },
  {
   "cell_type": "code",
   "execution_count": 60,
   "id": "7f0f9c93",
   "metadata": {},
   "outputs": [
    {
     "data": {
      "text/plain": [
       "array([[52,  6],\n",
       "       [12, 54],\n",
       "       [ 8, 16]])"
      ]
     },
     "execution_count": 60,
     "metadata": {},
     "output_type": "execute_result"
    }
   ],
   "source": [
    "X*2+2"
   ]
  },
  {
   "cell_type": "code",
   "execution_count": 61,
   "id": "cc6d40a6",
   "metadata": {},
   "outputs": [
    {
     "data": {
      "text/plain": [
       "<tf.Variable 'Variable:0' shape=(3, 2) dtype=int32, numpy=\n",
       "array([[25,  2],\n",
       "       [ 5, 26],\n",
       "       [ 3,  7]])>"
      ]
     },
     "execution_count": 61,
     "metadata": {},
     "output_type": "execute_result"
    }
   ],
   "source": [
    "X_tf"
   ]
  },
  {
   "cell_type": "code",
   "execution_count": 62,
   "id": "da657216",
   "metadata": {},
   "outputs": [
    {
     "data": {
      "text/plain": [
       "<tf.Tensor: shape=(3, 2), dtype=int32, numpy=\n",
       "array([[52,  6],\n",
       "       [12, 54],\n",
       "       [ 8, 16]])>"
      ]
     },
     "execution_count": 62,
     "metadata": {},
     "output_type": "execute_result"
    }
   ],
   "source": [
    "X_tf*2+2"
   ]
  },
  {
   "cell_type": "code",
   "execution_count": 63,
   "id": "7fd8a1fd",
   "metadata": {},
   "outputs": [
    {
     "data": {
      "text/plain": [
       "<tf.Tensor: shape=(3, 2), dtype=int32, numpy=\n",
       "array([[52,  6],\n",
       "       [12, 54],\n",
       "       [ 8, 16]])>"
      ]
     },
     "execution_count": 63,
     "metadata": {},
     "output_type": "execute_result"
    }
   ],
   "source": [
    "tf.add(tf.multiply(X_tf,2),2)"
   ]
  },
  {
   "cell_type": "code",
   "execution_count": 64,
   "id": "86e4693e",
   "metadata": {},
   "outputs": [
    {
     "data": {
      "text/plain": [
       "array([[25,  2],\n",
       "       [ 5, 26],\n",
       "       [ 3,  7]])"
      ]
     },
     "execution_count": 64,
     "metadata": {},
     "output_type": "execute_result"
    }
   ],
   "source": [
    "X"
   ]
  },
  {
   "cell_type": "code",
   "execution_count": 65,
   "id": "674b8c10",
   "metadata": {},
   "outputs": [
    {
     "data": {
      "text/plain": [
       "array([[27,  4],\n",
       "       [ 7, 28],\n",
       "       [ 5,  9]])"
      ]
     },
     "execution_count": 65,
     "metadata": {},
     "output_type": "execute_result"
    }
   ],
   "source": [
    "A = X+2\n",
    "A"
   ]
  },
  {
   "cell_type": "code",
   "execution_count": 66,
   "id": "8aba5100",
   "metadata": {},
   "outputs": [
    {
     "data": {
      "text/plain": [
       "array([[675,   8],\n",
       "       [ 35, 728],\n",
       "       [ 15,  63]])"
      ]
     },
     "execution_count": 66,
     "metadata": {},
     "output_type": "execute_result"
    }
   ],
   "source": [
    "A * X"
   ]
  },
  {
   "cell_type": "code",
   "execution_count": 67,
   "id": "8a55487e",
   "metadata": {},
   "outputs": [],
   "source": [
    "A_tf = X_tf + 2"
   ]
  },
  {
   "cell_type": "code",
   "execution_count": 68,
   "id": "d7ea34fb",
   "metadata": {},
   "outputs": [
    {
     "data": {
      "text/plain": [
       "<tf.Tensor: shape=(3, 2), dtype=int32, numpy=\n",
       "array([[52,  6],\n",
       "       [12, 54],\n",
       "       [ 8, 16]])>"
      ]
     },
     "execution_count": 68,
     "metadata": {},
     "output_type": "execute_result"
    }
   ],
   "source": [
    "A_tf + X_tf"
   ]
  },
  {
   "cell_type": "code",
   "execution_count": 69,
   "id": "469cc99e",
   "metadata": {},
   "outputs": [
    {
     "data": {
      "text/plain": [
       "<tf.Tensor: shape=(3, 2), dtype=int32, numpy=\n",
       "array([[675,   8],\n",
       "       [ 35, 728],\n",
       "       [ 15,  63]])>"
      ]
     },
     "execution_count": 69,
     "metadata": {},
     "output_type": "execute_result"
    }
   ],
   "source": [
    "A_tf * X_tf"
   ]
  },
  {
   "cell_type": "markdown",
   "id": "bf8fdfb8",
   "metadata": {},
   "source": [
    "### Reduction"
   ]
  },
  {
   "cell_type": "code",
   "execution_count": 70,
   "id": "8a4a715b",
   "metadata": {},
   "outputs": [
    {
     "data": {
      "text/plain": [
       "array([[25,  2],\n",
       "       [ 5, 26],\n",
       "       [ 3,  7]])"
      ]
     },
     "execution_count": 70,
     "metadata": {},
     "output_type": "execute_result"
    }
   ],
   "source": [
    "X"
   ]
  },
  {
   "cell_type": "code",
   "execution_count": 71,
   "id": "dd680aa6",
   "metadata": {},
   "outputs": [
    {
     "data": {
      "text/plain": [
       "<tf.Variable 'Variable:0' shape=(3, 2) dtype=int32, numpy=\n",
       "array([[25,  2],\n",
       "       [ 5, 26],\n",
       "       [ 3,  7]])>"
      ]
     },
     "execution_count": 71,
     "metadata": {},
     "output_type": "execute_result"
    }
   ],
   "source": [
    "X_tf"
   ]
  },
  {
   "cell_type": "code",
   "execution_count": 72,
   "id": "db0c0d00",
   "metadata": {},
   "outputs": [
    {
     "data": {
      "text/plain": [
       "68"
      ]
     },
     "execution_count": 72,
     "metadata": {},
     "output_type": "execute_result"
    }
   ],
   "source": [
    "X.sum()"
   ]
  },
  {
   "cell_type": "code",
   "execution_count": 73,
   "id": "9f72ec37",
   "metadata": {},
   "outputs": [
    {
     "data": {
      "text/plain": [
       "<tf.Tensor: shape=(), dtype=int32, numpy=68>"
      ]
     },
     "execution_count": 73,
     "metadata": {},
     "output_type": "execute_result"
    }
   ],
   "source": [
    "tf.reduce_sum(X_tf)"
   ]
  },
  {
   "cell_type": "code",
   "execution_count": 74,
   "id": "c71a82b0",
   "metadata": {},
   "outputs": [
    {
     "data": {
      "text/plain": [
       "array([27, 31, 10])"
      ]
     },
     "execution_count": 74,
     "metadata": {},
     "output_type": "execute_result"
    }
   ],
   "source": [
    "X.sum(axis=1)"
   ]
  },
  {
   "cell_type": "code",
   "execution_count": 75,
   "id": "f82782d1",
   "metadata": {},
   "outputs": [
    {
     "data": {
      "text/plain": [
       "array([33, 35])"
      ]
     },
     "execution_count": 75,
     "metadata": {},
     "output_type": "execute_result"
    }
   ],
   "source": [
    "X.sum(axis=0)"
   ]
  },
  {
   "cell_type": "code",
   "execution_count": 76,
   "id": "495d40c0",
   "metadata": {},
   "outputs": [
    {
     "data": {
      "text/plain": [
       "<tf.Tensor: shape=(3,), dtype=int32, numpy=array([27, 31, 10])>"
      ]
     },
     "execution_count": 76,
     "metadata": {},
     "output_type": "execute_result"
    }
   ],
   "source": [
    "tf.reduce_sum(X_tf, 1)"
   ]
  },
  {
   "cell_type": "code",
   "execution_count": 77,
   "id": "f8a5bf64",
   "metadata": {},
   "outputs": [
    {
     "data": {
      "text/plain": [
       "<tf.Tensor: shape=(2,), dtype=int32, numpy=array([33, 35])>"
      ]
     },
     "execution_count": 77,
     "metadata": {},
     "output_type": "execute_result"
    }
   ],
   "source": [
    "tf.reduce_sum(X_tf, 0)"
   ]
  },
  {
   "cell_type": "markdown",
   "id": "69d50849",
   "metadata": {},
   "source": [
    "### The Dot Product"
   ]
  },
  {
   "cell_type": "code",
   "execution_count": 78,
   "id": "67cedd20",
   "metadata": {},
   "outputs": [
    {
     "data": {
      "text/plain": [
       "array([25,  2,  5])"
      ]
     },
     "execution_count": 78,
     "metadata": {},
     "output_type": "execute_result"
    }
   ],
   "source": [
    "x"
   ]
  },
  {
   "cell_type": "code",
   "execution_count": 79,
   "id": "6dc5b583",
   "metadata": {},
   "outputs": [
    {
     "data": {
      "text/plain": [
       "array([0, 1, 2])"
      ]
     },
     "execution_count": 79,
     "metadata": {},
     "output_type": "execute_result"
    }
   ],
   "source": [
    "y = np.array([0,1,2])\n",
    "y"
   ]
  },
  {
   "cell_type": "code",
   "execution_count": 80,
   "id": "aced1c2a",
   "metadata": {},
   "outputs": [
    {
     "data": {
      "text/plain": [
       "12"
      ]
     },
     "execution_count": 80,
     "metadata": {},
     "output_type": "execute_result"
    }
   ],
   "source": [
    "25*0 + 2*1 + 5*2"
   ]
  },
  {
   "cell_type": "code",
   "execution_count": 81,
   "id": "052d1b6c",
   "metadata": {},
   "outputs": [
    {
     "data": {
      "text/plain": [
       "12"
      ]
     },
     "execution_count": 81,
     "metadata": {},
     "output_type": "execute_result"
    }
   ],
   "source": [
    "np.dot(x,y)"
   ]
  },
  {
   "cell_type": "code",
   "execution_count": 82,
   "id": "45fae5e1",
   "metadata": {},
   "outputs": [
    {
     "data": {
      "text/plain": [
       "<tf.Variable 'Variable:0' shape=(3,) dtype=int32, numpy=array([25,  2,  5])>"
      ]
     },
     "execution_count": 82,
     "metadata": {},
     "output_type": "execute_result"
    }
   ],
   "source": [
    "x_tf =  tf.Variable([25,  2,  5])\n",
    "x_tf"
   ]
  },
  {
   "cell_type": "code",
   "execution_count": 83,
   "id": "88bbfd67",
   "metadata": {},
   "outputs": [
    {
     "data": {
      "text/plain": [
       "<tf.Variable 'Variable:0' shape=(3,) dtype=int32, numpy=array([0, 1, 2])>"
      ]
     },
     "execution_count": 83,
     "metadata": {},
     "output_type": "execute_result"
    }
   ],
   "source": [
    "y_tf = tf.Variable([0, 1, 2])\n",
    "y_tf"
   ]
  },
  {
   "cell_type": "code",
   "execution_count": 84,
   "id": "70025316",
   "metadata": {},
   "outputs": [
    {
     "data": {
      "text/plain": [
       "<tf.Tensor: shape=(), dtype=int32, numpy=12>"
      ]
     },
     "execution_count": 84,
     "metadata": {},
     "output_type": "execute_result"
    }
   ],
   "source": [
    "tf.reduce_sum(tf.multiply(x_tf, y_tf))"
   ]
  },
  {
   "cell_type": "markdown",
   "id": "58b1bc84",
   "metadata": {},
   "source": [
    "### Solving Linear Systems"
   ]
  },
  {
   "cell_type": "markdown",
   "id": "0ce14d09",
   "metadata": {},
   "source": [
    "In the **Substitution** example, the two equations in the system are: \n",
    "$$ y = 3x $$\n",
    "$$ -5x + 2y = 2 $$\n",
    "\n",
    "The second equation can be rearranged to isolate $y$: \n",
    "$$ 2y = 2 + 5x $$\n",
    "$$ y = \\frac{2 + 5x}{2} = 1 + \\frac{5x}{2} $$"
   ]
  },
  {
   "cell_type": "code",
   "execution_count": 85,
   "id": "10d654ad",
   "metadata": {},
   "outputs": [],
   "source": [
    "x = np.linspace(-10, 10, 1000)"
   ]
  },
  {
   "cell_type": "code",
   "execution_count": 86,
   "id": "66bf8090",
   "metadata": {},
   "outputs": [],
   "source": [
    "y1 = 3 * x"
   ]
  },
  {
   "cell_type": "code",
   "execution_count": 87,
   "id": "e83560a0",
   "metadata": {},
   "outputs": [],
   "source": [
    "y2 = 1 + (5*x)/2"
   ]
  },
  {
   "cell_type": "code",
   "execution_count": 88,
   "id": "3a1bd20d",
   "metadata": {},
   "outputs": [
    {
     "data": {
      "image/png": "[encoded data removed]",
      "text/plain": [
       "<Figure size 432x288 with 1 Axes>"
      ]
     },
     "metadata": {
      "needs_background": "light"
     },
     "output_type": "display_data"
    }
   ],
   "source": [
    "fig, ax = plt.subplots()\n",
    "plt.xlabel('x')\n",
    "plt.ylabel('y')\n",
    "ax.set_xlim([0,3])\n",
    "ax.set_ylim([0,8])\n",
    "ax.plot(x, y1, c='blue')\n",
    "ax.plot(x, y2, c='red')\n",
    "plt.axvline(x=2, color='grey', linestyle='--')\n",
    "_ = plt.axhline(y=6, color='grey', linestyle='--')"
   ]
  },
  {
   "cell_type": "markdown",
   "id": "a7477c17",
   "metadata": {},
   "source": [
    "In the **Elimination** example, the two equations in the system are:\n",
    "$$ 2x - 3y = 15 $$\n",
    "$$ 4x + 10y = 14 $$\n",
    "\n",
    "Both equations can be rearranged to isolate $y$. Starting with the first equation: \n",
    "$$ -3y = 15 - 2x $$\n",
    "$$ y = \\frac{15 - 2x}{-3} = -5 + \\frac{2x}{3} $$\n",
    "\n",
    "Then for the second equation: \n",
    "$$ 4x + 10y = 14 $$\n",
    "$$ 2x + 5y = 7 $$\n",
    "$$ 5y = 7 - 2x $$\n",
    "$$ y = \\frac{7 - 2x}{5} $$"
   ]
  },
  {
   "cell_type": "code",
   "execution_count": 89,
   "id": "e3167968",
   "metadata": {},
   "outputs": [],
   "source": [
    "y1 = -5 + (2*x)/3"
   ]
  },
  {
   "cell_type": "code",
   "execution_count": 90,
   "id": "657f2894",
   "metadata": {},
   "outputs": [],
   "source": [
    "y2 = (7-2*x)/5"
   ]
  },
  {
   "cell_type": "code",
   "execution_count": 91,
   "id": "a64daaaa",
   "metadata": {},
   "outputs": [
    {
     "data": {
      "text/plain": [
       "<matplotlib.lines.Line2D at 0x1500e094340>"
      ]
     },
     "execution_count": 91,
     "metadata": {},
     "output_type": "execute_result"
    },
    {
     "data": {
      "image/png": "[encoded data removed]",
      "text/plain": [
       "<Figure size 432x288 with 1 Axes>"
      ]
     },
     "metadata": {
      "needs_background": "light"
     },
     "output_type": "display_data"
    }
   ],
   "source": [
    "fig, ax = plt.subplots()\n",
    "plt.xlabel('x')\n",
    "plt.ylabel('y')\n",
    "\n",
    "plt.axvline(x=0, color='lightgray')\n",
    "plt.axhline(y=0, color='lightgray')\n",
    "\n",
    "ax.set_xlim([-2, 10])\n",
    "ax.set_ylim([-6, 4])\n",
    "ax.plot(x, y1, c='blue')\n",
    "ax.plot(x, y2, c='red')\n",
    "plt.axvline(x=6, color='grey', linestyle='--')\n",
    "plt.axhline(y=1, color='grey', linestyle='--')"
   ]
  },
  {
   "cell_type": "markdown",
   "id": "fd7c0db5",
   "metadata": {},
   "source": [
    "## Segment 3: Matrix Properties"
   ]
  },
  {
   "cell_type": "markdown",
   "id": "0050b7cb",
   "metadata": {},
   "source": [
    "### Frobenius Norm\n",
    "\n",
    "1. Analogous to $L^{2}$ norm of vector\n",
    "2. Measure the size of matrix in terms of Euclidean distance\n",
    "3. It"
   ]
  },
  {
   "cell_type": "code",
   "execution_count": 92,
   "id": "a4ddfc44",
   "metadata": {},
   "outputs": [
    {
     "data": {
      "text/plain": [
       "array([[1, 2],\n",
       "       [3, 4]])"
      ]
     },
     "execution_count": 92,
     "metadata": {},
     "output_type": "execute_result"
    }
   ],
   "source": [
    "X = np.array([[1,2],[3,4]])\n",
    "X"
   ]
  },
  {
   "cell_type": "code",
   "execution_count": 93,
   "id": "c1e94cc4",
   "metadata": {},
   "outputs": [
    {
     "data": {
      "text/plain": [
       "5.477225575051661"
      ]
     },
     "execution_count": 93,
     "metadata": {},
     "output_type": "execute_result"
    }
   ],
   "source": [
    "(1**2 + 2**2 + 3**2 + 4**2)**(1/2)"
   ]
  },
  {
   "cell_type": "code",
   "execution_count": 94,
   "id": "5c5f7c57",
   "metadata": {},
   "outputs": [
    {
     "data": {
      "text/plain": [
       "182.75685139933898"
      ]
     },
     "execution_count": 94,
     "metadata": {},
     "output_type": "execute_result"
    }
   ],
   "source": [
    "np.linalg.norm(x)"
   ]
  },
  {
   "cell_type": "code",
   "execution_count": 95,
   "id": "8fb00f54",
   "metadata": {},
   "outputs": [],
   "source": [
    "x_tf = tf.Variable([[1, 2],[3, 4.]])"
   ]
  },
  {
   "cell_type": "code",
   "execution_count": 96,
   "id": "bde55858",
   "metadata": {},
   "outputs": [
    {
     "data": {
      "text/plain": [
       "<tf.Tensor: shape=(), dtype=float32, numpy=5.477226>"
      ]
     },
     "execution_count": 96,
     "metadata": {},
     "output_type": "execute_result"
    }
   ],
   "source": [
    "# tf.norm() only supports floats only\n",
    "tf.norm(x_tf)"
   ]
  },
  {
   "cell_type": "markdown",
   "id": "aac03f6e",
   "metadata": {},
   "source": [
    "### Matrix Multiplication (With a Vector)"
   ]
  },
  {
   "cell_type": "code",
   "execution_count": 97,
   "id": "9f022e41",
   "metadata": {},
   "outputs": [
    {
     "data": {
      "text/plain": [
       "array([[3, 4],\n",
       "       [5, 6],\n",
       "       [7, 8]])"
      ]
     },
     "execution_count": 97,
     "metadata": {},
     "output_type": "execute_result"
    }
   ],
   "source": [
    "A = np.array([[3,4], [5, 6],[7,8]])\n",
    "A"
   ]
  },
  {
   "cell_type": "code",
   "execution_count": 98,
   "id": "ef1eb1e8",
   "metadata": {},
   "outputs": [
    {
     "data": {
      "text/plain": [
       "array([1, 2])"
      ]
     },
     "execution_count": 98,
     "metadata": {},
     "output_type": "execute_result"
    }
   ],
   "source": [
    "b = np.array([1, 2])\n",
    "b"
   ]
  },
  {
   "cell_type": "code",
   "execution_count": 99,
   "id": "237faab8",
   "metadata": {},
   "outputs": [
    {
     "data": {
      "text/plain": [
       "array([11, 17, 23])"
      ]
     },
     "execution_count": 99,
     "metadata": {},
     "output_type": "execute_result"
    }
   ],
   "source": [
    "np.dot(A, b)"
   ]
  },
  {
   "cell_type": "code",
   "execution_count": 100,
   "id": "82ad3ea6",
   "metadata": {},
   "outputs": [
    {
     "data": {
      "text/plain": [
       "<tf.Variable 'Variable:0' shape=(3, 2) dtype=int32, numpy=\n",
       "array([[3, 4],\n",
       "       [5, 6],\n",
       "       [7, 8]])>"
      ]
     },
     "execution_count": 100,
     "metadata": {},
     "output_type": "execute_result"
    }
   ],
   "source": [
    "A_tf =tf.Variable([[3,4], [5,6], [7,8]])\n",
    "A_tf"
   ]
  },
  {
   "cell_type": "code",
   "execution_count": 101,
   "id": "c23d9c92",
   "metadata": {},
   "outputs": [
    {
     "data": {
      "text/plain": [
       "<tf.Variable 'Variable:0' shape=(2,) dtype=int32, numpy=array([1, 2])>"
      ]
     },
     "execution_count": 101,
     "metadata": {},
     "output_type": "execute_result"
    }
   ],
   "source": [
    "b_tf = tf.Variable([1, 2])\n",
    "b_tf"
   ]
  },
  {
   "cell_type": "code",
   "execution_count": 102,
   "id": "8f4e0b45",
   "metadata": {},
   "outputs": [
    {
     "data": {
      "text/plain": [
       "<tf.Tensor: shape=(3,), dtype=int32, numpy=array([11, 17, 23])>"
      ]
     },
     "execution_count": 102,
     "metadata": {},
     "output_type": "execute_result"
    }
   ],
   "source": [
    "tf.linalg.matvec(A_tf, b_tf)"
   ]
  },
  {
   "cell_type": "markdown",
   "id": "6e26d49c",
   "metadata": {},
   "source": [
    "### Matrix Multiplication (with Two Matrices)"
   ]
  },
  {
   "cell_type": "code",
   "execution_count": 103,
   "id": "08a9dbda",
   "metadata": {},
   "outputs": [
    {
     "data": {
      "text/plain": [
       "array([[3, 4],\n",
       "       [5, 6],\n",
       "       [7, 8]])"
      ]
     },
     "execution_count": 103,
     "metadata": {},
     "output_type": "execute_result"
    }
   ],
   "source": [
    "A = np.array([[3,4],[5,6],[7,8]])\n",
    "A"
   ]
  },
  {
   "cell_type": "code",
   "execution_count": 104,
   "id": "385cb2a7",
   "metadata": {},
   "outputs": [
    {
     "data": {
      "text/plain": [
       "array([1, 2])"
      ]
     },
     "execution_count": 104,
     "metadata": {},
     "output_type": "execute_result"
    }
   ],
   "source": [
    "b = np.array([1,2])\n",
    "b"
   ]
  },
  {
   "cell_type": "code",
   "execution_count": 105,
   "id": "8438c5fd",
   "metadata": {},
   "outputs": [
    {
     "data": {
      "text/plain": [
       "array([11, 17, 23])"
      ]
     },
     "execution_count": 105,
     "metadata": {},
     "output_type": "execute_result"
    }
   ],
   "source": [
    "np.dot(A,b)"
   ]
  },
  {
   "cell_type": "code",
   "execution_count": 106,
   "id": "6b30ca24",
   "metadata": {},
   "outputs": [
    {
     "data": {
      "text/plain": [
       "<tf.Variable 'Variable:0' shape=(3, 2) dtype=int32, numpy=\n",
       "array([[3, 4],\n",
       "       [5, 6],\n",
       "       [7, 8]])>"
      ]
     },
     "execution_count": 106,
     "metadata": {},
     "output_type": "execute_result"
    }
   ],
   "source": [
    "A_tf = tf.Variable([[3,4], [5,6], [7,8]])\n",
    "A_tf"
   ]
  },
  {
   "cell_type": "code",
   "execution_count": 107,
   "id": "2384a1c4",
   "metadata": {},
   "outputs": [
    {
     "data": {
      "text/plain": [
       "<tf.Variable 'Variable:0' shape=(2,) dtype=int32, numpy=array([1, 2])>"
      ]
     },
     "execution_count": 107,
     "metadata": {},
     "output_type": "execute_result"
    }
   ],
   "source": [
    "b_tf = tf.Variable([1,2])\n",
    "b_tf"
   ]
  },
  {
   "cell_type": "code",
   "execution_count": 108,
   "id": "23ef3fdc",
   "metadata": {},
   "outputs": [
    {
     "data": {
      "text/plain": [
       "<tf.Tensor: shape=(3,), dtype=int32, numpy=array([11, 17, 23])>"
      ]
     },
     "execution_count": 108,
     "metadata": {},
     "output_type": "execute_result"
    }
   ],
   "source": [
    "tf.linalg.matvec(A_tf, b_tf)"
   ]
  },
  {
   "cell_type": "markdown",
   "id": "49624984",
   "metadata": {},
   "source": [
    "### Matrix Multiplication (with Two Matrices)"
   ]
  },
  {
   "cell_type": "code",
   "execution_count": 109,
   "id": "bffe4daf",
   "metadata": {},
   "outputs": [
    {
     "data": {
      "text/plain": [
       "array([[3, 4],\n",
       "       [5, 6],\n",
       "       [7, 8]])"
      ]
     },
     "execution_count": 109,
     "metadata": {},
     "output_type": "execute_result"
    }
   ],
   "source": [
    "A"
   ]
  },
  {
   "cell_type": "code",
   "execution_count": 110,
   "id": "6689c360",
   "metadata": {},
   "outputs": [
    {
     "data": {
      "text/plain": [
       "array([[1, 9],\n",
       "       [2, 0]])"
      ]
     },
     "execution_count": 110,
     "metadata": {},
     "output_type": "execute_result"
    }
   ],
   "source": [
    "B = np.array([[1,9], [2,0]])\n",
    "B"
   ]
  },
  {
   "cell_type": "code",
   "execution_count": 111,
   "id": "cf272968",
   "metadata": {},
   "outputs": [
    {
     "data": {
      "text/plain": [
       "array([[11, 27],\n",
       "       [17, 45],\n",
       "       [23, 63]])"
      ]
     },
     "execution_count": 111,
     "metadata": {},
     "output_type": "execute_result"
    }
   ],
   "source": [
    "np.dot(A, B)"
   ]
  },
  {
   "cell_type": "code",
   "execution_count": 112,
   "id": "c8358845",
   "metadata": {},
   "outputs": [
    {
     "data": {
      "text/plain": [
       "array([[11, 27],\n",
       "       [17, 45],\n",
       "       [23, 63]])"
      ]
     },
     "execution_count": 112,
     "metadata": {},
     "output_type": "execute_result"
    }
   ],
   "source": [
    "np.dot(A, B)"
   ]
  },
  {
   "cell_type": "markdown",
   "id": "47e7c938",
   "metadata": {},
   "source": [
    "Note that matrix multiplication is not \"commutative\" (i.e., $AB \\neq BA$) so uncommenting the following line will throw a size mismatch error:"
   ]
  },
  {
   "cell_type": "code",
   "execution_count": 113,
   "id": "fb8e815e",
   "metadata": {},
   "outputs": [
    {
     "data": {
      "text/plain": [
       "<tf.Tensor: shape=(2, 2), dtype=int32, numpy=\n",
       "array([[1, 9],\n",
       "       [2, 0]])>"
      ]
     },
     "execution_count": 113,
     "metadata": {},
     "output_type": "execute_result"
    }
   ],
   "source": [
    "B_tf = tf.convert_to_tensor(B, dtype=tf.int32)\n",
    "B_tf"
   ]
  },
  {
   "cell_type": "code",
   "execution_count": 114,
   "id": "375fec45",
   "metadata": {},
   "outputs": [
    {
     "data": {
      "text/plain": [
       "<tf.Tensor: shape=(3, 2), dtype=int32, numpy=\n",
       "array([[11, 27],\n",
       "       [17, 45],\n",
       "       [23, 63]])>"
      ]
     },
     "execution_count": 114,
     "metadata": {},
     "output_type": "execute_result"
    }
   ],
   "source": [
    "tf.matmul(A_tf, B_tf)"
   ]
  },
  {
   "cell_type": "markdown",
   "id": "79afa9a9",
   "metadata": {},
   "source": [
    "### Symmetric Matrices"
   ]
  },
  {
   "cell_type": "code",
   "execution_count": 115,
   "id": "2cb619cc",
   "metadata": {},
   "outputs": [
    {
     "data": {
      "text/plain": [
       "array([[0, 1, 2],\n",
       "       [1, 7, 8],\n",
       "       [2, 8, 9]])"
      ]
     },
     "execution_count": 115,
     "metadata": {},
     "output_type": "execute_result"
    }
   ],
   "source": [
    "x_sym = np.array([[0, 1, 2], [1, 7, 8], [2, 8, 9]])\n",
    "x_sym"
   ]
  },
  {
   "cell_type": "code",
   "execution_count": 116,
   "id": "8d968a6e",
   "metadata": {},
   "outputs": [
    {
     "data": {
      "text/plain": [
       "array([[0, 1, 2],\n",
       "       [1, 7, 8],\n",
       "       [2, 8, 9]])"
      ]
     },
     "execution_count": 116,
     "metadata": {},
     "output_type": "execute_result"
    }
   ],
   "source": [
    "x_sym.T"
   ]
  },
  {
   "cell_type": "code",
   "execution_count": 117,
   "id": "80939915",
   "metadata": {},
   "outputs": [
    {
     "data": {
      "text/plain": [
       "array([[ True,  True,  True],\n",
       "       [ True,  True,  True],\n",
       "       [ True,  True,  True]])"
      ]
     },
     "execution_count": 117,
     "metadata": {},
     "output_type": "execute_result"
    }
   ],
   "source": [
    "x_sym.T == x_sym"
   ]
  },
  {
   "cell_type": "markdown",
   "id": "6274e26e",
   "metadata": {},
   "source": [
    "### Identity Matrices"
   ]
  },
  {
   "cell_type": "code",
   "execution_count": 118,
   "id": "e51cd8f1",
   "metadata": {},
   "outputs": [
    {
     "data": {
      "text/plain": [
       "<tf.Variable 'Variable:0' shape=(3, 3) dtype=int32, numpy=\n",
       "array([[1, 0, 0],\n",
       "       [0, 1, 0],\n",
       "       [0, 0, 1]])>"
      ]
     },
     "execution_count": 118,
     "metadata": {},
     "output_type": "execute_result"
    }
   ],
   "source": [
    "I = tf.Variable([[1, 0, 0], [0, 1, 0], [0, 0, 1]])\n",
    "I"
   ]
  },
  {
   "cell_type": "code",
   "execution_count": 119,
   "id": "55965e3b",
   "metadata": {},
   "outputs": [
    {
     "data": {
      "text/plain": [
       "<tf.Variable 'Variable:0' shape=(3,) dtype=int32, numpy=array([25,  3,  5])>"
      ]
     },
     "execution_count": 119,
     "metadata": {},
     "output_type": "execute_result"
    }
   ],
   "source": [
    "x_tf = tf.Variable([25, 3, 5])\n",
    "x_tf"
   ]
  },
  {
   "cell_type": "code",
   "execution_count": 173,
   "id": "cd74bb9f",
   "metadata": {},
   "outputs": [
    {
     "data": {
      "text/plain": [
       "<tf.Tensor: shape=(3, 2), dtype=int32, numpy=\n",
       "array([[25,  2],\n",
       "       [ 5, 26],\n",
       "       [ 3,  7]])>"
      ]
     },
     "execution_count": 173,
     "metadata": {},
     "output_type": "execute_result"
    }
   ],
   "source": [
    "tf.linalg.matmul(I, X_tf)\n"
   ]
  },
  {
   "cell_type": "markdown",
   "id": "9ba83d2d",
   "metadata": {},
   "source": [
    "### Answers to Matrix Multiplication Qs"
   ]
  },
  {
   "cell_type": "code",
   "execution_count": 125,
   "id": "4f90bdb2",
   "metadata": {},
   "outputs": [
    {
     "data": {
      "text/plain": [
       "array([[0, 1, 2],\n",
       "       [3, 4, 5],\n",
       "       [6, 7, 8]])"
      ]
     },
     "execution_count": 125,
     "metadata": {},
     "output_type": "execute_result"
    }
   ],
   "source": [
    "M_q = np.array([[0, 1, 2], [3, 4, 5], [6, 7, 8]])\n",
    "M_q"
   ]
  },
  {
   "cell_type": "code",
   "execution_count": 126,
   "id": "0cd02ec9",
   "metadata": {},
   "outputs": [
    {
     "data": {
      "text/plain": [
       "array([[-1,  0],\n",
       "       [ 1,  1],\n",
       "       [-2,  2]])"
      ]
     },
     "execution_count": 126,
     "metadata": {},
     "output_type": "execute_result"
    }
   ],
   "source": [
    "V_q = np.array([[-1, 1, -2], [0, 1, 2]]).T\n",
    "V_q"
   ]
  },
  {
   "cell_type": "code",
   "execution_count": 127,
   "id": "d4592260",
   "metadata": {},
   "outputs": [
    {
     "data": {
      "text/plain": [
       "array([[ -3,   5],\n",
       "       [ -9,  14],\n",
       "       [-15,  23]])"
      ]
     },
     "execution_count": 127,
     "metadata": {},
     "output_type": "execute_result"
    }
   ],
   "source": [
    "np.matmul(M_q, V_q)"
   ]
  },
  {
   "cell_type": "markdown",
   "id": "53ea6ee2",
   "metadata": {},
   "source": [
    "### Matrix Inversion"
   ]
  },
  {
   "cell_type": "code",
   "execution_count": 129,
   "id": "b4a74f5d",
   "metadata": {},
   "outputs": [
    {
     "data": {
      "text/plain": [
       "array([[ 4,  2],\n",
       "       [-5, -3]])"
      ]
     },
     "execution_count": 129,
     "metadata": {},
     "output_type": "execute_result"
    }
   ],
   "source": [
    "X = np.array([[4, 2], [-5, -3]])\n",
    "X"
   ]
  },
  {
   "cell_type": "code",
   "execution_count": 130,
   "id": "84fefba5",
   "metadata": {},
   "outputs": [
    {
     "data": {
      "text/plain": [
       "array([[ 1.5,  1. ],\n",
       "       [-2.5, -2. ]])"
      ]
     },
     "execution_count": 130,
     "metadata": {},
     "output_type": "execute_result"
    }
   ],
   "source": [
    "Xinv = np.linalg.inv(X)\n",
    "Xinv"
   ]
  },
  {
   "cell_type": "markdown",
   "id": "d6541cb7",
   "metadata": {},
   "source": [
    "As a quick aside, let's prove that $X^{-1}X = I_n$ as per the slides: "
   ]
  },
  {
   "cell_type": "code",
   "execution_count": 132,
   "id": "086da805",
   "metadata": {},
   "outputs": [
    {
     "data": {
      "text/plain": [
       "array([[1.0000000e+00, 4.4408921e-16],\n",
       "       [0.0000000e+00, 1.0000000e+00]])"
      ]
     },
     "execution_count": 132,
     "metadata": {},
     "output_type": "execute_result"
    }
   ],
   "source": [
    "np.dot(Xinv, X)"
   ]
  },
  {
   "cell_type": "code",
   "execution_count": 133,
   "id": "ffea8773",
   "metadata": {},
   "outputs": [
    {
     "data": {
      "text/plain": [
       "array([ 4, -7])"
      ]
     },
     "execution_count": 133,
     "metadata": {},
     "output_type": "execute_result"
    }
   ],
   "source": [
    "y = np.array([4,-7])\n",
    "y"
   ]
  },
  {
   "cell_type": "code",
   "execution_count": 134,
   "id": "246f4c81",
   "metadata": {},
   "outputs": [
    {
     "data": {
      "text/plain": [
       "array([-1.,  4.])"
      ]
     },
     "execution_count": 134,
     "metadata": {},
     "output_type": "execute_result"
    }
   ],
   "source": [
    "w = np.dot(Xinv, y)\n",
    "w"
   ]
  },
  {
   "cell_type": "markdown",
   "id": "dbd86f82",
   "metadata": {},
   "source": [
    "Show that $y = Xw$: "
   ]
  },
  {
   "cell_type": "code",
   "execution_count": 135,
   "id": "5df45088",
   "metadata": {},
   "outputs": [
    {
     "data": {
      "text/plain": [
       "array([ 4., -7.])"
      ]
     },
     "execution_count": 135,
     "metadata": {},
     "output_type": "execute_result"
    }
   ],
   "source": [
    "np.dot(X, w)"
   ]
  },
  {
   "cell_type": "markdown",
   "id": "82216f90",
   "metadata": {},
   "source": [
    "**Geometric Visualization**\n",
    "\n",
    "Recalling from the slides that the two equations in the system are:\n",
    "$$ 4b + 2c = 4 $$\n",
    "$$ -5b - 3c = -7 $$\n",
    "\n",
    "Both equations can be rearranged to isolate a variable, say $c$. Starting with the first equation: \n",
    "$$ 4b + 2c = 4 $$\n",
    "$$ 2b + c = 2 $$\n",
    "$$ c = 2 - 2b $$\n",
    "\n",
    "Then for the second equation: \n",
    "$$ -5b - 3c = -7 $$\n",
    "$$ -3c = -7 + 5b $$\n",
    "$$ c = \\frac{-7 + 5b}{-3} = \\frac{7 - 5b}{3} $$"
   ]
  },
  {
   "cell_type": "code",
   "execution_count": 137,
   "id": "075b9c04",
   "metadata": {},
   "outputs": [],
   "source": [
    "b = np.linspace(-10, 10, 1000) # start, finish, and points"
   ]
  },
  {
   "cell_type": "code",
   "execution_count": 138,
   "id": "5707dea4",
   "metadata": {},
   "outputs": [],
   "source": [
    "c1 = 2-2*b"
   ]
  },
  {
   "cell_type": "code",
   "execution_count": 139,
   "id": "bf921710",
   "metadata": {},
   "outputs": [],
   "source": [
    "c2 = (7-5*b)/3"
   ]
  },
  {
   "cell_type": "code",
   "execution_count": 149,
   "id": "cc8926c0",
   "metadata": {},
   "outputs": [
    {
     "data": {
      "image/png": "[encoded data removed]",
      "text/plain": [
       "<Figure size 432x288 with 1 Axes>"
      ]
     },
     "metadata": {
      "needs_background": "light"
     },
     "output_type": "display_data"
    }
   ],
   "source": [
    "fix, ax = plt.subplots()\n",
    "plt.xlabel('b', c='darkorange')\n",
    "plt.ylabel('c', c='brown')\n",
    "\n",
    "plt.axvline(x=0, color='lightgray')\n",
    "plt.axhline(y=0, color='lightgray')\n",
    "\n",
    "ax.set_xlim([-2, 3])\n",
    "ax.set_ylim([-1, 5])\n",
    "ax.plot(b, c1, c='blue')\n",
    "ax.plot(b, c2, c='red')\n",
    "\n",
    "plt.axvline(x=-1, color='gray', linestyle='--')\n",
    "_ = plt.axhline(y=4, color='gray', linestyle='--')"
   ]
  },
  {
   "cell_type": "markdown",
   "id": "593b164c",
   "metadata": {},
   "source": [
    "In TensorFlow :"
   ]
  },
  {
   "cell_type": "code",
   "execution_count": 150,
   "id": "a7f21d38",
   "metadata": {},
   "outputs": [
    {
     "data": {
      "text/plain": [
       "<tf.Tensor: shape=(2, 2), dtype=float32, numpy=\n",
       "array([[ 1.4999998,  0.9999998],\n",
       "       [-2.4999995, -1.9999996]], dtype=float32)>"
      ]
     },
     "execution_count": 150,
     "metadata": {},
     "output_type": "execute_result"
    }
   ],
   "source": [
    "tf.linalg.inv(tf.Variable([[4, 2], [-5, -3.]])) # also float"
   ]
  },
  {
   "cell_type": "markdown",
   "id": "0856845f",
   "metadata": {},
   "source": [
    "### Orthogonal Matrices\n",
    "\n",
    "These are the solutions to Exercises 3 and 4 on **orthogonal matrices** from the slides.\n",
    "\n",
    "For Exercise 3, to demonstrate the matrix $I_3$ has mutually orthogonal columns, we show that the dot product of any pair of columns is zero: "
   ]
  },
  {
   "cell_type": "code",
   "execution_count": 152,
   "id": "5cdb9c00",
   "metadata": {},
   "outputs": [
    {
     "data": {
      "text/plain": [
       "array([[1, 0, 0],\n",
       "       [0, 1, 0],\n",
       "       [0, 0, 1]])"
      ]
     },
     "execution_count": 152,
     "metadata": {},
     "output_type": "execute_result"
    }
   ],
   "source": [
    "I = np.array([[1, 0, 0], [0, 1, 0], [0, 0, 1]])\n",
    "I"
   ]
  },
  {
   "cell_type": "code",
   "execution_count": 153,
   "id": "1a46b6fe",
   "metadata": {},
   "outputs": [
    {
     "data": {
      "text/plain": [
       "array([1, 0, 0])"
      ]
     },
     "execution_count": 153,
     "metadata": {},
     "output_type": "execute_result"
    }
   ],
   "source": [
    "column_1 = I[:, 0]\n",
    "column_1"
   ]
  },
  {
   "cell_type": "code",
   "execution_count": 160,
   "id": "ad839b5c",
   "metadata": {},
   "outputs": [
    {
     "data": {
      "text/plain": [
       "array([0, 1, 0])"
      ]
     },
     "execution_count": 160,
     "metadata": {},
     "output_type": "execute_result"
    }
   ],
   "source": [
    "column_2 = I[:, 1]\n",
    "column_2"
   ]
  },
  {
   "cell_type": "code",
   "execution_count": 155,
   "id": "13f88b00",
   "metadata": {},
   "outputs": [
    {
     "data": {
      "text/plain": [
       "array([0, 0, 1])"
      ]
     },
     "execution_count": 155,
     "metadata": {},
     "output_type": "execute_result"
    }
   ],
   "source": [
    "column_3 = I[:, 2]\n",
    "column_3"
   ]
  },
  {
   "cell_type": "code",
   "execution_count": 161,
   "id": "872e6064",
   "metadata": {},
   "outputs": [
    {
     "data": {
      "text/plain": [
       "0"
      ]
     },
     "execution_count": 161,
     "metadata": {},
     "output_type": "execute_result"
    }
   ],
   "source": [
    "np.dot(column_1, column_2)"
   ]
  },
  {
   "cell_type": "code",
   "execution_count": 162,
   "id": "85714270",
   "metadata": {},
   "outputs": [
    {
     "data": {
      "text/plain": [
       "0"
      ]
     },
     "execution_count": 162,
     "metadata": {},
     "output_type": "execute_result"
    }
   ],
   "source": [
    "np.dot(column_1, column_3)"
   ]
  },
  {
   "cell_type": "code",
   "execution_count": 163,
   "id": "93f29ba0",
   "metadata": {},
   "outputs": [
    {
     "data": {
      "text/plain": [
       "0"
      ]
     },
     "execution_count": 163,
     "metadata": {},
     "output_type": "execute_result"
    }
   ],
   "source": [
    "np.dot(column_2, column_3)"
   ]
  },
  {
   "cell_type": "markdown",
   "id": "72c1b449",
   "metadata": {},
   "source": [
    "We can use the `np.linalg.norm()` method from earlier in the notebook to demonstrate that each column of $I_3$ has unit norm: "
   ]
  },
  {
   "cell_type": "code",
   "execution_count": 164,
   "id": "b2c15aa4",
   "metadata": {},
   "outputs": [
    {
     "data": {
      "text/plain": [
       "1.0"
      ]
     },
     "execution_count": 164,
     "metadata": {},
     "output_type": "execute_result"
    }
   ],
   "source": [
    "np.linalg.norm(column_1)"
   ]
  },
  {
   "cell_type": "code",
   "execution_count": 165,
   "id": "3727e8c9",
   "metadata": {},
   "outputs": [
    {
     "data": {
      "text/plain": [
       "1.0"
      ]
     },
     "execution_count": 165,
     "metadata": {},
     "output_type": "execute_result"
    }
   ],
   "source": [
    "np.linalg.norm(column_2)"
   ]
  },
  {
   "cell_type": "code",
   "execution_count": 166,
   "id": "42468645",
   "metadata": {},
   "outputs": [
    {
     "data": {
      "text/plain": [
       "1.0"
      ]
     },
     "execution_count": 166,
     "metadata": {},
     "output_type": "execute_result"
    }
   ],
   "source": [
    "np.linalg.norm(column_3)"
   ]
  },
  {
   "cell_type": "markdown",
   "id": "dbf2e7c8",
   "metadata": {},
   "source": [
    "Since the matrix $I_3$ has mutually orthogonal columns and each column has unit norm, the column vectors of $I_3$ are *orthonormal*. Since $I_3^T = I_3$, this means that the *rows* of $I_3$ must also be orthonormal. \n",
    "\n",
    "Since the columns and rows of $I_3$ are orthonormal, $I_3$ is an *orthogonal matrix*."
   ]
  },
  {
   "cell_type": "markdown",
   "id": "42001168",
   "metadata": {},
   "source": [
    "For Exercise 4, let's repeat the steps of Exercise 3 with matrix *K* instead of $I_3$. We could use NumPy again, but for fun I'll use TensorFlow instead."
   ]
  },
  {
   "cell_type": "code",
   "execution_count": 167,
   "id": "6983dd90",
   "metadata": {},
   "outputs": [
    {
     "data": {
      "text/plain": [
       "<tf.Variable 'Variable:0' shape=(3, 3) dtype=float32, numpy=\n",
       "array([[ 0.6666667 ,  0.33333334,  0.6666667 ],\n",
       "       [-0.6666667 ,  0.6666667 ,  0.33333334],\n",
       "       [ 0.33333334,  0.6666667 , -0.6666667 ]], dtype=float32)>"
      ]
     },
     "execution_count": 167,
     "metadata": {},
     "output_type": "execute_result"
    }
   ],
   "source": [
    "K = tf.Variable([[2/3, 1/3, 2/3], [-2/3, 2/3, 1/3], [1/3, 2/3, -2/3]])\n",
    "K"
   ]
  },
  {
   "cell_type": "code",
   "execution_count": 169,
   "id": "9c1fcf28",
   "metadata": {},
   "outputs": [
    {
     "data": {
      "text/plain": [
       "<tf.Tensor: shape=(3,), dtype=float32, numpy=array([ 0.6666667 , -0.6666667 ,  0.33333334], dtype=float32)>"
      ]
     },
     "execution_count": 169,
     "metadata": {},
     "output_type": "execute_result"
    }
   ],
   "source": [
    "Kcol_1 = K[:, 0]\n",
    "Kcol_1"
   ]
  },
  {
   "cell_type": "code",
   "execution_count": 170,
   "id": "3aedef08",
   "metadata": {},
   "outputs": [
    {
     "data": {
      "text/plain": [
       "<tf.Tensor: shape=(3,), dtype=float32, numpy=array([0.33333334, 0.6666667 , 0.6666667 ], dtype=float32)>"
      ]
     },
     "execution_count": 170,
     "metadata": {},
     "output_type": "execute_result"
    }
   ],
   "source": [
    "Kcol_2 = K[:, 1]\n",
    "Kcol_2"
   ]
  },
  {
   "cell_type": "code",
   "execution_count": 171,
   "id": "39b6e0b9",
   "metadata": {},
   "outputs": [
    {
     "data": {
      "text/plain": [
       "<tf.Tensor: shape=(3,), dtype=float32, numpy=array([ 0.6666667 ,  0.33333334, -0.6666667 ], dtype=float32)>"
      ]
     },
     "execution_count": 171,
     "metadata": {},
     "output_type": "execute_result"
    }
   ],
   "source": [
    "Kcol_3 = K[:, 2]\n",
    "Kcol_3"
   ]
  },
  {
   "cell_type": "code",
   "execution_count": 174,
   "id": "68d5648b",
   "metadata": {},
   "outputs": [
    {
     "data": {
      "text/plain": [
       "<tf.Tensor: shape=(), dtype=float32, numpy=0.0>"
      ]
     },
     "execution_count": 174,
     "metadata": {},
     "output_type": "execute_result"
    }
   ],
   "source": [
    "tf.linalg.tensordot(Kcol_1, Kcol_2, axes=1)"
   ]
  },
  {
   "cell_type": "code",
   "execution_count": 175,
   "id": "ad43d047",
   "metadata": {},
   "outputs": [
    {
     "data": {
      "text/plain": [
       "<tf.Tensor: shape=(), dtype=float32, numpy=0.0>"
      ]
     },
     "execution_count": 175,
     "metadata": {},
     "output_type": "execute_result"
    }
   ],
   "source": [
    "tf.linalg.tensordot(Kcol_1, Kcol_3, axes=1)"
   ]
  },
  {
   "cell_type": "code",
   "execution_count": 176,
   "id": "9a6ab89d",
   "metadata": {},
   "outputs": [
    {
     "data": {
      "text/plain": [
       "<tf.Tensor: shape=(), dtype=float32, numpy=0.0>"
      ]
     },
     "execution_count": 176,
     "metadata": {},
     "output_type": "execute_result"
    }
   ],
   "source": [
    "tf.linalg.tensordot(Kcol_2, Kcol_3, axes=1)"
   ]
  },
  {
   "cell_type": "markdown",
   "id": "65d444e7",
   "metadata": {},
   "source": [
    "We've now determined that the columns of $K$ are orthogonal."
   ]
  },
  {
   "cell_type": "code",
   "execution_count": 177,
   "id": "4ac70fb8",
   "metadata": {},
   "outputs": [
    {
     "data": {
      "text/plain": [
       "<tf.Tensor: shape=(), dtype=float32, numpy=1.0>"
      ]
     },
     "execution_count": 177,
     "metadata": {},
     "output_type": "execute_result"
    }
   ],
   "source": [
    "tf.norm(Kcol_1)"
   ]
  },
  {
   "cell_type": "code",
   "execution_count": 178,
   "id": "7a58302e",
   "metadata": {},
   "outputs": [
    {
     "data": {
      "text/plain": [
       "<tf.Tensor: shape=(), dtype=float32, numpy=1.0>"
      ]
     },
     "execution_count": 178,
     "metadata": {},
     "output_type": "execute_result"
    }
   ],
   "source": [
    "tf.norm(Kcol_2)"
   ]
  },
  {
   "cell_type": "code",
   "execution_count": 179,
   "id": "e3e1a5d1",
   "metadata": {},
   "outputs": [
    {
     "data": {
      "text/plain": [
       "<tf.Tensor: shape=(), dtype=float32, numpy=1.0>"
      ]
     },
     "execution_count": 179,
     "metadata": {},
     "output_type": "execute_result"
    }
   ],
   "source": [
    "tf.norm(Kcol_3)"
   ]
  },
  {
   "cell_type": "markdown",
   "id": "6447c9fe",
   "metadata": {},
   "source": [
    "We've now determined that, in addition to being orthogonal, the columns of $K$ have unit norm, therefore they are orthonormal. \n",
    "\n",
    "To ensure that $K$ is an orthogonal matrix, we would need to show that not only does it have orthonormal columns but it has orthonormal rows are as well. Since $K^T \\neq K$, we can't prove this quite as straightforwardly as we did with $I_3$. \n",
    "\n",
    "One approach would be to repeat the steps we used to determine that $K$ has orthogonal columns with all of the matrix's rows (please feel free to do so). Alternatively, we can use an orthogonal matrix-specific equation from the slides, $A^TA = I$, to demonstrate that $K$ is orthogonal in a single line of code: "
   ]
  },
  {
   "cell_type": "code",
   "execution_count": 181,
   "id": "e91ffd58",
   "metadata": {},
   "outputs": [],
   "source": [
    "K = np.array([[2/3, 1/3, 2/3], [-2/3, 2/3, 1/3], [1/3, 2/3, -2/3]])"
   ]
  },
  {
   "cell_type": "code",
   "execution_count": 183,
   "id": "5825e020",
   "metadata": {},
   "outputs": [
    {
     "data": {
      "text/plain": [
       "array([[1., 0., 0.],\n",
       "       [0., 1., 0.],\n",
       "       [0., 0., 1.]])"
      ]
     },
     "execution_count": 183,
     "metadata": {},
     "output_type": "execute_result"
    }
   ],
   "source": [
    "np.matmul(K.T, K)"
   ]
  },
  {
   "cell_type": "markdown",
   "id": "7dddc82c",
   "metadata": {},
   "source": [
    "Notwithstanding rounding errors that we can safely ignore, this confirms that $K^TK = I$ and therefore $K$ is an orthogonal matrix."
   ]
  }
 ],
 "metadata": {
  "kernelspec": {
   "display_name": "Python 3 (ipykernel)",
   "language": "python",
   "name": "python3"
  },
  "language_info": {
   "codemirror_mode": {
    "name": "ipython",
    "version": 3
   },
   "file_extension": ".py",
   "mimetype": "text/x-python",
   "name": "python",
   "nbconvert_exporter": "python",
   "pygments_lexer": "ipython3",
   "version": "3.10.4"
  }
 },
 "nbformat": 4,
 "nbformat_minor": 5
}
